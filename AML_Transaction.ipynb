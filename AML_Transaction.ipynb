{
 "cells": [
  {
   "cell_type": "markdown",
   "metadata": {},
   "source": [
    "![](https://web.archive.org/web/20161019192412im_/http://lisp.vse.cz/pkdd99/data.gif)"
   ]
  },
  {
   "cell_type": "markdown",
   "metadata": {},
   "source": [
    "[Guide to the Financial Data Set](https://web.archive.org/web/20161019192412/http://lisp.vse.cz/pkdd99/berka.htm)\n",
    "    \n",
    "[1999 Czech Financial Dataset - Real Anonymized Transactions](https://data.world/lpetrocelli/czech-financial-dataset-real-anonymized-transactions)"
   ]
  },
  {
   "cell_type": "code",
   "execution_count": 298,
   "metadata": {},
   "outputs": [],
   "source": [
    "import pandas as pd\n",
    "import numpy as np\n",
    "\n",
    "import statsmodels.api as sm\n",
    "import scipy.stats as scs\n",
    "from statsmodels.stats.outliers_influence import variance_inflation_factor\n",
    "\n",
    "import matplotlib\n",
    "import matplotlib.pyplot as plt\n",
    "%matplotlib inline\n",
    "from pandas.plotting import scatter_matrix\n",
    "from sklearn.linear_model import LogisticRegression\n",
    "from sklearn.metrics import confusion_matrix, roc_auc_score, roc_curve\n",
    "import seaborn as sns\n",
    "\n",
    "from sklearn.model_selection import train_test_split\n",
    "from sklearn import preprocessing\n",
    "from sklearn.metrics import classification_report\n",
    "from sklearn.metrics import confusion_matrix\n",
    "from sklearn.metrics import accuracy_score\n",
    "from sklearn.neighbors import KNeighborsClassifier \n",
    "from yellowbrick.classifier import ClassPredictionError\n",
    "from yellowbrick.features.importances import FeatureImportances\n",
    "from xgboost import XGBClassifier"
   ]
  },
  {
   "cell_type": "code",
   "execution_count": 2,
   "metadata": {},
   "outputs": [],
   "source": [
    "district_df = pd.read_csv('berka/district.csv', delimiter= \";\", \n",
    "                          names = [\"district code\", \"district name\", \"region\", \"no. of inhabitants\", \n",
    "                          \"no. of municipalities with inhabitants < 499\", \n",
    "                          \"no. of municipalities with inhabitants 500-1999\", \n",
    "                          \"no. of municipalities with inhabitants 2000-9999\",\n",
    "                          \"no. of municipalities with inhabitants >10000\", \n",
    "                          \"no. of cities\", \"ratio of urban inhabitants\" , \"average salary\",\n",
    "                          \"unemploymant rate 95\", \"unemploymant rate 96\", \n",
    "                          \"no. of enterpreneurs per 1000 inhabitants\", \"no. of commited crimes 95\",\n",
    "                          \"no. of commited crimes 96\"], )"
   ]
  },
  {
   "cell_type": "code",
   "execution_count": 3,
   "metadata": {
    "scrolled": false
   },
   "outputs": [
    {
     "data": {
      "text/html": [
       "<div>\n",
       "<style scoped>\n",
       "    .dataframe tbody tr th:only-of-type {\n",
       "        vertical-align: middle;\n",
       "    }\n",
       "\n",
       "    .dataframe tbody tr th {\n",
       "        vertical-align: top;\n",
       "    }\n",
       "\n",
       "    .dataframe thead th {\n",
       "        text-align: right;\n",
       "    }\n",
       "</style>\n",
       "<table border=\"1\" class=\"dataframe\">\n",
       "  <thead>\n",
       "    <tr style=\"text-align: right;\">\n",
       "      <th></th>\n",
       "      <th>district code</th>\n",
       "      <th>district name</th>\n",
       "      <th>region</th>\n",
       "      <th>no. of inhabitants</th>\n",
       "      <th>no. of municipalities with inhabitants &lt; 499</th>\n",
       "      <th>no. of municipalities with inhabitants 500-1999</th>\n",
       "      <th>no. of municipalities with inhabitants 2000-9999</th>\n",
       "      <th>no. of municipalities with inhabitants &gt;10000</th>\n",
       "      <th>no. of cities</th>\n",
       "      <th>ratio of urban inhabitants</th>\n",
       "      <th>average salary</th>\n",
       "      <th>unemploymant rate 95</th>\n",
       "      <th>unemploymant rate 96</th>\n",
       "      <th>no. of enterpreneurs per 1000 inhabitants</th>\n",
       "      <th>no. of commited crimes 95</th>\n",
       "      <th>no. of commited crimes 96</th>\n",
       "    </tr>\n",
       "  </thead>\n",
       "  <tbody>\n",
       "    <tr>\n",
       "      <th>1</th>\n",
       "      <td>1</td>\n",
       "      <td>Hl.m. Praha</td>\n",
       "      <td>Prague</td>\n",
       "      <td>1204953</td>\n",
       "      <td>0</td>\n",
       "      <td>0</td>\n",
       "      <td>0</td>\n",
       "      <td>1</td>\n",
       "      <td>1</td>\n",
       "      <td>100.0</td>\n",
       "      <td>12541</td>\n",
       "      <td>0.29</td>\n",
       "      <td>0.43</td>\n",
       "      <td>167</td>\n",
       "      <td>85677</td>\n",
       "      <td>99107</td>\n",
       "    </tr>\n",
       "    <tr>\n",
       "      <th>2</th>\n",
       "      <td>2</td>\n",
       "      <td>Benesov</td>\n",
       "      <td>central Bohemia</td>\n",
       "      <td>88884</td>\n",
       "      <td>80</td>\n",
       "      <td>26</td>\n",
       "      <td>6</td>\n",
       "      <td>2</td>\n",
       "      <td>5</td>\n",
       "      <td>46.7</td>\n",
       "      <td>8507</td>\n",
       "      <td>1.67</td>\n",
       "      <td>1.85</td>\n",
       "      <td>132</td>\n",
       "      <td>2159</td>\n",
       "      <td>2674</td>\n",
       "    </tr>\n",
       "    <tr>\n",
       "      <th>3</th>\n",
       "      <td>3</td>\n",
       "      <td>Beroun</td>\n",
       "      <td>central Bohemia</td>\n",
       "      <td>75232</td>\n",
       "      <td>55</td>\n",
       "      <td>26</td>\n",
       "      <td>4</td>\n",
       "      <td>1</td>\n",
       "      <td>5</td>\n",
       "      <td>41.7</td>\n",
       "      <td>8980</td>\n",
       "      <td>1.95</td>\n",
       "      <td>2.21</td>\n",
       "      <td>111</td>\n",
       "      <td>2824</td>\n",
       "      <td>2813</td>\n",
       "    </tr>\n",
       "    <tr>\n",
       "      <th>4</th>\n",
       "      <td>4</td>\n",
       "      <td>Kladno</td>\n",
       "      <td>central Bohemia</td>\n",
       "      <td>149893</td>\n",
       "      <td>63</td>\n",
       "      <td>29</td>\n",
       "      <td>6</td>\n",
       "      <td>2</td>\n",
       "      <td>6</td>\n",
       "      <td>67.4</td>\n",
       "      <td>9753</td>\n",
       "      <td>4.64</td>\n",
       "      <td>5.05</td>\n",
       "      <td>109</td>\n",
       "      <td>5244</td>\n",
       "      <td>5892</td>\n",
       "    </tr>\n",
       "    <tr>\n",
       "      <th>5</th>\n",
       "      <td>5</td>\n",
       "      <td>Kolin</td>\n",
       "      <td>central Bohemia</td>\n",
       "      <td>95616</td>\n",
       "      <td>65</td>\n",
       "      <td>30</td>\n",
       "      <td>4</td>\n",
       "      <td>1</td>\n",
       "      <td>6</td>\n",
       "      <td>51.4</td>\n",
       "      <td>9307</td>\n",
       "      <td>3.85</td>\n",
       "      <td>4.43</td>\n",
       "      <td>118</td>\n",
       "      <td>2616</td>\n",
       "      <td>3040</td>\n",
       "    </tr>\n",
       "  </tbody>\n",
       "</table>\n",
       "</div>"
      ],
      "text/plain": [
       "  district code district name           region no. of inhabitants  \\\n",
       "1             1   Hl.m. Praha           Prague            1204953   \n",
       "2             2       Benesov  central Bohemia              88884   \n",
       "3             3        Beroun  central Bohemia              75232   \n",
       "4             4        Kladno  central Bohemia             149893   \n",
       "5             5         Kolin  central Bohemia              95616   \n",
       "\n",
       "  no. of municipalities with inhabitants < 499  \\\n",
       "1                                            0   \n",
       "2                                           80   \n",
       "3                                           55   \n",
       "4                                           63   \n",
       "5                                           65   \n",
       "\n",
       "  no. of municipalities with inhabitants 500-1999  \\\n",
       "1                                               0   \n",
       "2                                              26   \n",
       "3                                              26   \n",
       "4                                              29   \n",
       "5                                              30   \n",
       "\n",
       "  no. of municipalities with inhabitants 2000-9999  \\\n",
       "1                                                0   \n",
       "2                                                6   \n",
       "3                                                4   \n",
       "4                                                6   \n",
       "5                                                4   \n",
       "\n",
       "  no. of municipalities with inhabitants >10000 no. of cities  \\\n",
       "1                                             1             1   \n",
       "2                                             2             5   \n",
       "3                                             1             5   \n",
       "4                                             2             6   \n",
       "5                                             1             6   \n",
       "\n",
       "  ratio of urban inhabitants average salary unemploymant rate 95  \\\n",
       "1                      100.0          12541                 0.29   \n",
       "2                       46.7           8507                 1.67   \n",
       "3                       41.7           8980                 1.95   \n",
       "4                       67.4           9753                 4.64   \n",
       "5                       51.4           9307                 3.85   \n",
       "\n",
       "  unemploymant rate 96 no. of enterpreneurs per 1000 inhabitants  \\\n",
       "1                 0.43                                       167   \n",
       "2                 1.85                                       132   \n",
       "3                 2.21                                       111   \n",
       "4                 5.05                                       109   \n",
       "5                 4.43                                       118   \n",
       "\n",
       "  no. of commited crimes 95 no. of commited crimes 96  \n",
       "1                     85677                     99107  \n",
       "2                      2159                      2674  \n",
       "3                      2824                      2813  \n",
       "4                      5244                      5892  \n",
       "5                      2616                      3040  "
      ]
     },
     "execution_count": 3,
     "metadata": {},
     "output_type": "execute_result"
    }
   ],
   "source": [
    "district_df = district_df.drop(0, axis = 0)\n",
    "district_df.head()"
   ]
  },
  {
   "cell_type": "code",
   "execution_count": 4,
   "metadata": {},
   "outputs": [
    {
     "data": {
      "text/plain": [
       "(77, 16)"
      ]
     },
     "execution_count": 4,
     "metadata": {},
     "output_type": "execute_result"
    }
   ],
   "source": [
    "district_df.shape"
   ]
  },
  {
   "cell_type": "code",
   "execution_count": 5,
   "metadata": {},
   "outputs": [],
   "source": [
    "district_df['district code'] = district_df['district code'].astype(int)"
   ]
  },
  {
   "cell_type": "code",
   "execution_count": 6,
   "metadata": {},
   "outputs": [],
   "source": [
    "account_df = pd.read_csv('berka/account.csv', delimiter=';')"
   ]
  },
  {
   "cell_type": "code",
   "execution_count": 7,
   "metadata": {},
   "outputs": [
    {
     "data": {
      "text/html": [
       "<div>\n",
       "<style scoped>\n",
       "    .dataframe tbody tr th:only-of-type {\n",
       "        vertical-align: middle;\n",
       "    }\n",
       "\n",
       "    .dataframe tbody tr th {\n",
       "        vertical-align: top;\n",
       "    }\n",
       "\n",
       "    .dataframe thead th {\n",
       "        text-align: right;\n",
       "    }\n",
       "</style>\n",
       "<table border=\"1\" class=\"dataframe\">\n",
       "  <thead>\n",
       "    <tr style=\"text-align: right;\">\n",
       "      <th></th>\n",
       "      <th>account_id</th>\n",
       "      <th>district_id</th>\n",
       "      <th>frequency</th>\n",
       "      <th>date</th>\n",
       "    </tr>\n",
       "  </thead>\n",
       "  <tbody>\n",
       "    <tr>\n",
       "      <th>0</th>\n",
       "      <td>576</td>\n",
       "      <td>55</td>\n",
       "      <td>POPLATEK MESICNE</td>\n",
       "      <td>930101</td>\n",
       "    </tr>\n",
       "    <tr>\n",
       "      <th>1</th>\n",
       "      <td>3818</td>\n",
       "      <td>74</td>\n",
       "      <td>POPLATEK MESICNE</td>\n",
       "      <td>930101</td>\n",
       "    </tr>\n",
       "    <tr>\n",
       "      <th>2</th>\n",
       "      <td>704</td>\n",
       "      <td>55</td>\n",
       "      <td>POPLATEK MESICNE</td>\n",
       "      <td>930101</td>\n",
       "    </tr>\n",
       "    <tr>\n",
       "      <th>3</th>\n",
       "      <td>2378</td>\n",
       "      <td>16</td>\n",
       "      <td>POPLATEK MESICNE</td>\n",
       "      <td>930101</td>\n",
       "    </tr>\n",
       "    <tr>\n",
       "      <th>4</th>\n",
       "      <td>2632</td>\n",
       "      <td>24</td>\n",
       "      <td>POPLATEK MESICNE</td>\n",
       "      <td>930102</td>\n",
       "    </tr>\n",
       "  </tbody>\n",
       "</table>\n",
       "</div>"
      ],
      "text/plain": [
       "   account_id  district_id         frequency    date\n",
       "0         576           55  POPLATEK MESICNE  930101\n",
       "1        3818           74  POPLATEK MESICNE  930101\n",
       "2         704           55  POPLATEK MESICNE  930101\n",
       "3        2378           16  POPLATEK MESICNE  930101\n",
       "4        2632           24  POPLATEK MESICNE  930102"
      ]
     },
     "execution_count": 7,
     "metadata": {},
     "output_type": "execute_result"
    }
   ],
   "source": [
    "account_df.head()"
   ]
  },
  {
   "cell_type": "code",
   "execution_count": 8,
   "metadata": {},
   "outputs": [],
   "source": [
    "client_df = pd.read_csv('berka/client.csv', delimiter=';')"
   ]
  },
  {
   "cell_type": "code",
   "execution_count": 9,
   "metadata": {
    "scrolled": true
   },
   "outputs": [
    {
     "data": {
      "text/html": [
       "<div>\n",
       "<style scoped>\n",
       "    .dataframe tbody tr th:only-of-type {\n",
       "        vertical-align: middle;\n",
       "    }\n",
       "\n",
       "    .dataframe tbody tr th {\n",
       "        vertical-align: top;\n",
       "    }\n",
       "\n",
       "    .dataframe thead th {\n",
       "        text-align: right;\n",
       "    }\n",
       "</style>\n",
       "<table border=\"1\" class=\"dataframe\">\n",
       "  <thead>\n",
       "    <tr style=\"text-align: right;\">\n",
       "      <th></th>\n",
       "      <th>client_id</th>\n",
       "      <th>birth_number</th>\n",
       "      <th>district_id</th>\n",
       "    </tr>\n",
       "  </thead>\n",
       "  <tbody>\n",
       "    <tr>\n",
       "      <th>0</th>\n",
       "      <td>1</td>\n",
       "      <td>706213</td>\n",
       "      <td>18</td>\n",
       "    </tr>\n",
       "    <tr>\n",
       "      <th>1</th>\n",
       "      <td>2</td>\n",
       "      <td>450204</td>\n",
       "      <td>1</td>\n",
       "    </tr>\n",
       "    <tr>\n",
       "      <th>2</th>\n",
       "      <td>3</td>\n",
       "      <td>406009</td>\n",
       "      <td>1</td>\n",
       "    </tr>\n",
       "    <tr>\n",
       "      <th>3</th>\n",
       "      <td>4</td>\n",
       "      <td>561201</td>\n",
       "      <td>5</td>\n",
       "    </tr>\n",
       "    <tr>\n",
       "      <th>4</th>\n",
       "      <td>5</td>\n",
       "      <td>605703</td>\n",
       "      <td>5</td>\n",
       "    </tr>\n",
       "  </tbody>\n",
       "</table>\n",
       "</div>"
      ],
      "text/plain": [
       "   client_id  birth_number  district_id\n",
       "0          1        706213           18\n",
       "1          2        450204            1\n",
       "2          3        406009            1\n",
       "3          4        561201            5\n",
       "4          5        605703            5"
      ]
     },
     "execution_count": 9,
     "metadata": {},
     "output_type": "execute_result"
    }
   ],
   "source": [
    "client_df.head()"
   ]
  },
  {
   "cell_type": "code",
   "execution_count": 10,
   "metadata": {},
   "outputs": [],
   "source": [
    "card_df = pd.read_csv('berka/card.csv', delimiter=';')"
   ]
  },
  {
   "cell_type": "code",
   "execution_count": 11,
   "metadata": {},
   "outputs": [
    {
     "data": {
      "text/html": [
       "<div>\n",
       "<style scoped>\n",
       "    .dataframe tbody tr th:only-of-type {\n",
       "        vertical-align: middle;\n",
       "    }\n",
       "\n",
       "    .dataframe tbody tr th {\n",
       "        vertical-align: top;\n",
       "    }\n",
       "\n",
       "    .dataframe thead th {\n",
       "        text-align: right;\n",
       "    }\n",
       "</style>\n",
       "<table border=\"1\" class=\"dataframe\">\n",
       "  <thead>\n",
       "    <tr style=\"text-align: right;\">\n",
       "      <th></th>\n",
       "      <th>card_id</th>\n",
       "      <th>disp_id</th>\n",
       "      <th>type</th>\n",
       "      <th>issued</th>\n",
       "    </tr>\n",
       "  </thead>\n",
       "  <tbody>\n",
       "    <tr>\n",
       "      <th>0</th>\n",
       "      <td>1005</td>\n",
       "      <td>9285</td>\n",
       "      <td>classic</td>\n",
       "      <td>931107 00:00:00</td>\n",
       "    </tr>\n",
       "    <tr>\n",
       "      <th>1</th>\n",
       "      <td>104</td>\n",
       "      <td>588</td>\n",
       "      <td>classic</td>\n",
       "      <td>940119 00:00:00</td>\n",
       "    </tr>\n",
       "    <tr>\n",
       "      <th>2</th>\n",
       "      <td>747</td>\n",
       "      <td>4915</td>\n",
       "      <td>classic</td>\n",
       "      <td>940205 00:00:00</td>\n",
       "    </tr>\n",
       "    <tr>\n",
       "      <th>3</th>\n",
       "      <td>70</td>\n",
       "      <td>439</td>\n",
       "      <td>classic</td>\n",
       "      <td>940208 00:00:00</td>\n",
       "    </tr>\n",
       "    <tr>\n",
       "      <th>4</th>\n",
       "      <td>577</td>\n",
       "      <td>3687</td>\n",
       "      <td>classic</td>\n",
       "      <td>940215 00:00:00</td>\n",
       "    </tr>\n",
       "  </tbody>\n",
       "</table>\n",
       "</div>"
      ],
      "text/plain": [
       "   card_id  disp_id     type           issued\n",
       "0     1005     9285  classic  931107 00:00:00\n",
       "1      104      588  classic  940119 00:00:00\n",
       "2      747     4915  classic  940205 00:00:00\n",
       "3       70      439  classic  940208 00:00:00\n",
       "4      577     3687  classic  940215 00:00:00"
      ]
     },
     "execution_count": 11,
     "metadata": {},
     "output_type": "execute_result"
    }
   ],
   "source": [
    "card_df.head()"
   ]
  },
  {
   "cell_type": "code",
   "execution_count": 12,
   "metadata": {},
   "outputs": [],
   "source": [
    "disp_df = pd.read_csv('berka/disp.csv', delimiter=';')"
   ]
  },
  {
   "cell_type": "code",
   "execution_count": 13,
   "metadata": {},
   "outputs": [
    {
     "data": {
      "text/html": [
       "<div>\n",
       "<style scoped>\n",
       "    .dataframe tbody tr th:only-of-type {\n",
       "        vertical-align: middle;\n",
       "    }\n",
       "\n",
       "    .dataframe tbody tr th {\n",
       "        vertical-align: top;\n",
       "    }\n",
       "\n",
       "    .dataframe thead th {\n",
       "        text-align: right;\n",
       "    }\n",
       "</style>\n",
       "<table border=\"1\" class=\"dataframe\">\n",
       "  <thead>\n",
       "    <tr style=\"text-align: right;\">\n",
       "      <th></th>\n",
       "      <th>disp_id</th>\n",
       "      <th>client_id</th>\n",
       "      <th>account_id</th>\n",
       "      <th>type</th>\n",
       "    </tr>\n",
       "  </thead>\n",
       "  <tbody>\n",
       "    <tr>\n",
       "      <th>0</th>\n",
       "      <td>1</td>\n",
       "      <td>1</td>\n",
       "      <td>1</td>\n",
       "      <td>OWNER</td>\n",
       "    </tr>\n",
       "    <tr>\n",
       "      <th>1</th>\n",
       "      <td>2</td>\n",
       "      <td>2</td>\n",
       "      <td>2</td>\n",
       "      <td>OWNER</td>\n",
       "    </tr>\n",
       "    <tr>\n",
       "      <th>2</th>\n",
       "      <td>3</td>\n",
       "      <td>3</td>\n",
       "      <td>2</td>\n",
       "      <td>DISPONENT</td>\n",
       "    </tr>\n",
       "    <tr>\n",
       "      <th>3</th>\n",
       "      <td>4</td>\n",
       "      <td>4</td>\n",
       "      <td>3</td>\n",
       "      <td>OWNER</td>\n",
       "    </tr>\n",
       "    <tr>\n",
       "      <th>4</th>\n",
       "      <td>5</td>\n",
       "      <td>5</td>\n",
       "      <td>3</td>\n",
       "      <td>DISPONENT</td>\n",
       "    </tr>\n",
       "  </tbody>\n",
       "</table>\n",
       "</div>"
      ],
      "text/plain": [
       "   disp_id  client_id  account_id       type\n",
       "0        1          1           1      OWNER\n",
       "1        2          2           2      OWNER\n",
       "2        3          3           2  DISPONENT\n",
       "3        4          4           3      OWNER\n",
       "4        5          5           3  DISPONENT"
      ]
     },
     "execution_count": 13,
     "metadata": {},
     "output_type": "execute_result"
    }
   ],
   "source": [
    "disp_df.head()"
   ]
  },
  {
   "cell_type": "code",
   "execution_count": 14,
   "metadata": {},
   "outputs": [],
   "source": [
    "loan_df = pd.read_csv('berka/loan.csv', delimiter=';')"
   ]
  },
  {
   "cell_type": "code",
   "execution_count": 15,
   "metadata": {},
   "outputs": [
    {
     "data": {
      "text/html": [
       "<div>\n",
       "<style scoped>\n",
       "    .dataframe tbody tr th:only-of-type {\n",
       "        vertical-align: middle;\n",
       "    }\n",
       "\n",
       "    .dataframe tbody tr th {\n",
       "        vertical-align: top;\n",
       "    }\n",
       "\n",
       "    .dataframe thead th {\n",
       "        text-align: right;\n",
       "    }\n",
       "</style>\n",
       "<table border=\"1\" class=\"dataframe\">\n",
       "  <thead>\n",
       "    <tr style=\"text-align: right;\">\n",
       "      <th></th>\n",
       "      <th>loan_id</th>\n",
       "      <th>account_id</th>\n",
       "      <th>date</th>\n",
       "      <th>amount</th>\n",
       "      <th>duration</th>\n",
       "      <th>payments</th>\n",
       "      <th>status</th>\n",
       "    </tr>\n",
       "  </thead>\n",
       "  <tbody>\n",
       "    <tr>\n",
       "      <th>0</th>\n",
       "      <td>5314</td>\n",
       "      <td>1787</td>\n",
       "      <td>930705</td>\n",
       "      <td>96396</td>\n",
       "      <td>12</td>\n",
       "      <td>8033.0</td>\n",
       "      <td>B</td>\n",
       "    </tr>\n",
       "    <tr>\n",
       "      <th>1</th>\n",
       "      <td>5316</td>\n",
       "      <td>1801</td>\n",
       "      <td>930711</td>\n",
       "      <td>165960</td>\n",
       "      <td>36</td>\n",
       "      <td>4610.0</td>\n",
       "      <td>A</td>\n",
       "    </tr>\n",
       "    <tr>\n",
       "      <th>2</th>\n",
       "      <td>6863</td>\n",
       "      <td>9188</td>\n",
       "      <td>930728</td>\n",
       "      <td>127080</td>\n",
       "      <td>60</td>\n",
       "      <td>2118.0</td>\n",
       "      <td>A</td>\n",
       "    </tr>\n",
       "    <tr>\n",
       "      <th>3</th>\n",
       "      <td>5325</td>\n",
       "      <td>1843</td>\n",
       "      <td>930803</td>\n",
       "      <td>105804</td>\n",
       "      <td>36</td>\n",
       "      <td>2939.0</td>\n",
       "      <td>A</td>\n",
       "    </tr>\n",
       "    <tr>\n",
       "      <th>4</th>\n",
       "      <td>7240</td>\n",
       "      <td>11013</td>\n",
       "      <td>930906</td>\n",
       "      <td>274740</td>\n",
       "      <td>60</td>\n",
       "      <td>4579.0</td>\n",
       "      <td>A</td>\n",
       "    </tr>\n",
       "  </tbody>\n",
       "</table>\n",
       "</div>"
      ],
      "text/plain": [
       "   loan_id  account_id    date  amount  duration  payments status\n",
       "0     5314        1787  930705   96396        12    8033.0      B\n",
       "1     5316        1801  930711  165960        36    4610.0      A\n",
       "2     6863        9188  930728  127080        60    2118.0      A\n",
       "3     5325        1843  930803  105804        36    2939.0      A\n",
       "4     7240       11013  930906  274740        60    4579.0      A"
      ]
     },
     "execution_count": 15,
     "metadata": {},
     "output_type": "execute_result"
    }
   ],
   "source": [
    "loan_df.head()"
   ]
  },
  {
   "cell_type": "code",
   "execution_count": 16,
   "metadata": {},
   "outputs": [],
   "source": [
    "order_df = pd.read_csv('berka/order.csv', delimiter=';')"
   ]
  },
  {
   "cell_type": "code",
   "execution_count": 17,
   "metadata": {},
   "outputs": [
    {
     "data": {
      "text/html": [
       "<div>\n",
       "<style scoped>\n",
       "    .dataframe tbody tr th:only-of-type {\n",
       "        vertical-align: middle;\n",
       "    }\n",
       "\n",
       "    .dataframe tbody tr th {\n",
       "        vertical-align: top;\n",
       "    }\n",
       "\n",
       "    .dataframe thead th {\n",
       "        text-align: right;\n",
       "    }\n",
       "</style>\n",
       "<table border=\"1\" class=\"dataframe\">\n",
       "  <thead>\n",
       "    <tr style=\"text-align: right;\">\n",
       "      <th></th>\n",
       "      <th>order_id</th>\n",
       "      <th>account_id</th>\n",
       "      <th>bank_to</th>\n",
       "      <th>account_to</th>\n",
       "      <th>amount</th>\n",
       "      <th>k_symbol</th>\n",
       "    </tr>\n",
       "  </thead>\n",
       "  <tbody>\n",
       "    <tr>\n",
       "      <th>0</th>\n",
       "      <td>29401</td>\n",
       "      <td>1</td>\n",
       "      <td>YZ</td>\n",
       "      <td>87144583</td>\n",
       "      <td>2452.0</td>\n",
       "      <td>SIPO</td>\n",
       "    </tr>\n",
       "    <tr>\n",
       "      <th>1</th>\n",
       "      <td>29402</td>\n",
       "      <td>2</td>\n",
       "      <td>ST</td>\n",
       "      <td>89597016</td>\n",
       "      <td>3372.7</td>\n",
       "      <td>UVER</td>\n",
       "    </tr>\n",
       "    <tr>\n",
       "      <th>2</th>\n",
       "      <td>29403</td>\n",
       "      <td>2</td>\n",
       "      <td>QR</td>\n",
       "      <td>13943797</td>\n",
       "      <td>7266.0</td>\n",
       "      <td>SIPO</td>\n",
       "    </tr>\n",
       "    <tr>\n",
       "      <th>3</th>\n",
       "      <td>29404</td>\n",
       "      <td>3</td>\n",
       "      <td>WX</td>\n",
       "      <td>83084338</td>\n",
       "      <td>1135.0</td>\n",
       "      <td>SIPO</td>\n",
       "    </tr>\n",
       "    <tr>\n",
       "      <th>4</th>\n",
       "      <td>29405</td>\n",
       "      <td>3</td>\n",
       "      <td>CD</td>\n",
       "      <td>24485939</td>\n",
       "      <td>327.0</td>\n",
       "      <td></td>\n",
       "    </tr>\n",
       "  </tbody>\n",
       "</table>\n",
       "</div>"
      ],
      "text/plain": [
       "   order_id  account_id bank_to  account_to  amount k_symbol\n",
       "0     29401           1      YZ    87144583  2452.0     SIPO\n",
       "1     29402           2      ST    89597016  3372.7     UVER\n",
       "2     29403           2      QR    13943797  7266.0     SIPO\n",
       "3     29404           3      WX    83084338  1135.0     SIPO\n",
       "4     29405           3      CD    24485939   327.0         "
      ]
     },
     "execution_count": 17,
     "metadata": {},
     "output_type": "execute_result"
    }
   ],
   "source": [
    "order_df.head()"
   ]
  },
  {
   "cell_type": "code",
   "execution_count": 18,
   "metadata": {},
   "outputs": [
    {
     "name": "stderr",
     "output_type": "stream",
     "text": [
      "/home/m/anaconda3/lib/python3.6/site-packages/IPython/core/interactiveshell.py:2785: DtypeWarning: Columns (8) have mixed types. Specify dtype option on import or set low_memory=False.\n",
      "  interactivity=interactivity, compiler=compiler, result=result)\n"
     ]
    }
   ],
   "source": [
    "trans_df = pd.read_csv('berka/trans.csv', delimiter=';')"
   ]
  },
  {
   "cell_type": "code",
   "execution_count": 19,
   "metadata": {},
   "outputs": [
    {
     "data": {
      "text/html": [
       "<div>\n",
       "<style scoped>\n",
       "    .dataframe tbody tr th:only-of-type {\n",
       "        vertical-align: middle;\n",
       "    }\n",
       "\n",
       "    .dataframe tbody tr th {\n",
       "        vertical-align: top;\n",
       "    }\n",
       "\n",
       "    .dataframe thead th {\n",
       "        text-align: right;\n",
       "    }\n",
       "</style>\n",
       "<table border=\"1\" class=\"dataframe\">\n",
       "  <thead>\n",
       "    <tr style=\"text-align: right;\">\n",
       "      <th></th>\n",
       "      <th>trans_id</th>\n",
       "      <th>account_id</th>\n",
       "      <th>date</th>\n",
       "      <th>type</th>\n",
       "      <th>operation</th>\n",
       "      <th>amount</th>\n",
       "      <th>balance</th>\n",
       "      <th>k_symbol</th>\n",
       "      <th>bank</th>\n",
       "      <th>account</th>\n",
       "    </tr>\n",
       "  </thead>\n",
       "  <tbody>\n",
       "    <tr>\n",
       "      <th>0</th>\n",
       "      <td>695247</td>\n",
       "      <td>2378</td>\n",
       "      <td>930101</td>\n",
       "      <td>PRIJEM</td>\n",
       "      <td>VKLAD</td>\n",
       "      <td>700.0</td>\n",
       "      <td>700.0</td>\n",
       "      <td>NaN</td>\n",
       "      <td>NaN</td>\n",
       "      <td>NaN</td>\n",
       "    </tr>\n",
       "    <tr>\n",
       "      <th>1</th>\n",
       "      <td>171812</td>\n",
       "      <td>576</td>\n",
       "      <td>930101</td>\n",
       "      <td>PRIJEM</td>\n",
       "      <td>VKLAD</td>\n",
       "      <td>900.0</td>\n",
       "      <td>900.0</td>\n",
       "      <td>NaN</td>\n",
       "      <td>NaN</td>\n",
       "      <td>NaN</td>\n",
       "    </tr>\n",
       "    <tr>\n",
       "      <th>2</th>\n",
       "      <td>207264</td>\n",
       "      <td>704</td>\n",
       "      <td>930101</td>\n",
       "      <td>PRIJEM</td>\n",
       "      <td>VKLAD</td>\n",
       "      <td>1000.0</td>\n",
       "      <td>1000.0</td>\n",
       "      <td>NaN</td>\n",
       "      <td>NaN</td>\n",
       "      <td>NaN</td>\n",
       "    </tr>\n",
       "    <tr>\n",
       "      <th>3</th>\n",
       "      <td>1117247</td>\n",
       "      <td>3818</td>\n",
       "      <td>930101</td>\n",
       "      <td>PRIJEM</td>\n",
       "      <td>VKLAD</td>\n",
       "      <td>600.0</td>\n",
       "      <td>600.0</td>\n",
       "      <td>NaN</td>\n",
       "      <td>NaN</td>\n",
       "      <td>NaN</td>\n",
       "    </tr>\n",
       "    <tr>\n",
       "      <th>4</th>\n",
       "      <td>579373</td>\n",
       "      <td>1972</td>\n",
       "      <td>930102</td>\n",
       "      <td>PRIJEM</td>\n",
       "      <td>VKLAD</td>\n",
       "      <td>400.0</td>\n",
       "      <td>400.0</td>\n",
       "      <td>NaN</td>\n",
       "      <td>NaN</td>\n",
       "      <td>NaN</td>\n",
       "    </tr>\n",
       "  </tbody>\n",
       "</table>\n",
       "</div>"
      ],
      "text/plain": [
       "   trans_id  account_id    date    type operation  amount  balance k_symbol  \\\n",
       "0    695247        2378  930101  PRIJEM     VKLAD   700.0    700.0      NaN   \n",
       "1    171812         576  930101  PRIJEM     VKLAD   900.0    900.0      NaN   \n",
       "2    207264         704  930101  PRIJEM     VKLAD  1000.0   1000.0      NaN   \n",
       "3   1117247        3818  930101  PRIJEM     VKLAD   600.0    600.0      NaN   \n",
       "4    579373        1972  930102  PRIJEM     VKLAD   400.0    400.0      NaN   \n",
       "\n",
       "  bank  account  \n",
       "0  NaN      NaN  \n",
       "1  NaN      NaN  \n",
       "2  NaN      NaN  \n",
       "3  NaN      NaN  \n",
       "4  NaN      NaN  "
      ]
     },
     "execution_count": 19,
     "metadata": {},
     "output_type": "execute_result"
    }
   ],
   "source": [
    "trans_df.head()"
   ]
  },
  {
   "cell_type": "raw",
   "metadata": {},
   "source": [
    "df = pd.merge(account_df, load_df, left_on='client_district_id', right_on='district_id', how='inner')"
   ]
  },
  {
   "cell_type": "code",
   "execution_count": 20,
   "metadata": {},
   "outputs": [],
   "source": [
    "df1 = pd.merge(account_df, loan_df, left_on='account_id', right_on='account_id', how='inner')\n",
    "df2 = pd.merge(account_df, order_df, left_on='account_id', right_on='account_id', how='inner')\n",
    "df3 = pd.merge(account_df, trans_df, left_on='account_id', right_on='account_id', how='inner')\n",
    "df4 = pd.merge(account_df, district_df, left_on='district_id', right_on='district code', how='inner')\n",
    "df5 = pd.merge(account_df, disp_df, left_on='account_id', right_on='account_id', how='inner')\n",
    "df = pd.merge(disp_df, card_df, left_on='disp_id', right_on='disp_id', how='inner')\n",
    "df6 = pd.merge(account_df, df, left_on='account_id', right_on='account_id', how='inner')\n",
    "df = pd.merge(disp_df, client_df, left_on='client_id', right_on='client_id', how='inner')\n",
    "df7 = pd.merge(account_df, df, left_on='account_id', right_on='account_id', how='inner')"
   ]
  },
  {
   "cell_type": "code",
   "execution_count": 21,
   "metadata": {},
   "outputs": [],
   "source": [
    "from functools import reduce"
   ]
  },
  {
   "cell_type": "code",
   "execution_count": 22,
   "metadata": {},
   "outputs": [],
   "source": [
    "dfs = [df1, df2, df3, df4, df5, df6, df7]"
   ]
  },
  {
   "cell_type": "code",
   "execution_count": 23,
   "metadata": {},
   "outputs": [],
   "source": [
    "dataframe = reduce(lambda left,right: pd.merge(left, right, on = \"account_id\"), dfs)"
   ]
  },
  {
   "cell_type": "code",
   "execution_count": 24,
   "metadata": {
    "scrolled": true
   },
   "outputs": [
    {
     "data": {
      "text/html": [
       "<div>\n",
       "<style scoped>\n",
       "    .dataframe tbody tr th:only-of-type {\n",
       "        vertical-align: middle;\n",
       "    }\n",
       "\n",
       "    .dataframe tbody tr th {\n",
       "        vertical-align: top;\n",
       "    }\n",
       "\n",
       "    .dataframe thead th {\n",
       "        text-align: right;\n",
       "    }\n",
       "</style>\n",
       "<table border=\"1\" class=\"dataframe\">\n",
       "  <thead>\n",
       "    <tr style=\"text-align: right;\">\n",
       "      <th></th>\n",
       "      <th>account_id</th>\n",
       "      <th>loan_id</th>\n",
       "      <th>duration</th>\n",
       "      <th>payments</th>\n",
       "      <th>status</th>\n",
       "      <th>order_id</th>\n",
       "      <th>bank_to</th>\n",
       "      <th>account_to</th>\n",
       "      <th>trans_id</th>\n",
       "      <th>operation</th>\n",
       "      <th>...</th>\n",
       "      <th>no. of commited crimes 95</th>\n",
       "      <th>no. of commited crimes 96</th>\n",
       "      <th>card_id</th>\n",
       "      <th>issued</th>\n",
       "      <th>frequency</th>\n",
       "      <th>date</th>\n",
       "      <th>disp_id</th>\n",
       "      <th>client_id</th>\n",
       "      <th>type</th>\n",
       "      <th>birth_number</th>\n",
       "    </tr>\n",
       "  </thead>\n",
       "  <tbody>\n",
       "    <tr>\n",
       "      <th>0</th>\n",
       "      <td>5891</td>\n",
       "      <td>6202</td>\n",
       "      <td>12</td>\n",
       "      <td>5432.0</td>\n",
       "      <td>A</td>\n",
       "      <td>38118</td>\n",
       "      <td>EF</td>\n",
       "      <td>95617645</td>\n",
       "      <td>1736607</td>\n",
       "      <td>VKLAD</td>\n",
       "      <td>...</td>\n",
       "      <td>18721</td>\n",
       "      <td>18696</td>\n",
       "      <td>874</td>\n",
       "      <td>971007 00:00:00</td>\n",
       "      <td>POPLATEK MESICNE</td>\n",
       "      <td>930125</td>\n",
       "      <td>7127</td>\n",
       "      <td>7127</td>\n",
       "      <td>OWNER</td>\n",
       "      <td>570929</td>\n",
       "    </tr>\n",
       "    <tr>\n",
       "      <th>1</th>\n",
       "      <td>5891</td>\n",
       "      <td>6202</td>\n",
       "      <td>12</td>\n",
       "      <td>5432.0</td>\n",
       "      <td>A</td>\n",
       "      <td>38118</td>\n",
       "      <td>EF</td>\n",
       "      <td>95617645</td>\n",
       "      <td>1736609</td>\n",
       "      <td>PREVOD Z UCTU</td>\n",
       "      <td>...</td>\n",
       "      <td>18721</td>\n",
       "      <td>18696</td>\n",
       "      <td>874</td>\n",
       "      <td>971007 00:00:00</td>\n",
       "      <td>POPLATEK MESICNE</td>\n",
       "      <td>930125</td>\n",
       "      <td>7127</td>\n",
       "      <td>7127</td>\n",
       "      <td>OWNER</td>\n",
       "      <td>570929</td>\n",
       "    </tr>\n",
       "    <tr>\n",
       "      <th>2</th>\n",
       "      <td>5891</td>\n",
       "      <td>6202</td>\n",
       "      <td>12</td>\n",
       "      <td>5432.0</td>\n",
       "      <td>A</td>\n",
       "      <td>38118</td>\n",
       "      <td>EF</td>\n",
       "      <td>95617645</td>\n",
       "      <td>1736950</td>\n",
       "      <td>VYBER</td>\n",
       "      <td>...</td>\n",
       "      <td>18721</td>\n",
       "      <td>18696</td>\n",
       "      <td>874</td>\n",
       "      <td>971007 00:00:00</td>\n",
       "      <td>POPLATEK MESICNE</td>\n",
       "      <td>930125</td>\n",
       "      <td>7127</td>\n",
       "      <td>7127</td>\n",
       "      <td>OWNER</td>\n",
       "      <td>570929</td>\n",
       "    </tr>\n",
       "    <tr>\n",
       "      <th>3</th>\n",
       "      <td>5891</td>\n",
       "      <td>6202</td>\n",
       "      <td>12</td>\n",
       "      <td>5432.0</td>\n",
       "      <td>A</td>\n",
       "      <td>38118</td>\n",
       "      <td>EF</td>\n",
       "      <td>95617645</td>\n",
       "      <td>3673340</td>\n",
       "      <td>NaN</td>\n",
       "      <td>...</td>\n",
       "      <td>18721</td>\n",
       "      <td>18696</td>\n",
       "      <td>874</td>\n",
       "      <td>971007 00:00:00</td>\n",
       "      <td>POPLATEK MESICNE</td>\n",
       "      <td>930125</td>\n",
       "      <td>7127</td>\n",
       "      <td>7127</td>\n",
       "      <td>OWNER</td>\n",
       "      <td>570929</td>\n",
       "    </tr>\n",
       "    <tr>\n",
       "      <th>4</th>\n",
       "      <td>5891</td>\n",
       "      <td>6202</td>\n",
       "      <td>12</td>\n",
       "      <td>5432.0</td>\n",
       "      <td>A</td>\n",
       "      <td>38118</td>\n",
       "      <td>EF</td>\n",
       "      <td>95617645</td>\n",
       "      <td>1736610</td>\n",
       "      <td>PREVOD Z UCTU</td>\n",
       "      <td>...</td>\n",
       "      <td>18721</td>\n",
       "      <td>18696</td>\n",
       "      <td>874</td>\n",
       "      <td>971007 00:00:00</td>\n",
       "      <td>POPLATEK MESICNE</td>\n",
       "      <td>930125</td>\n",
       "      <td>7127</td>\n",
       "      <td>7127</td>\n",
       "      <td>OWNER</td>\n",
       "      <td>570929</td>\n",
       "    </tr>\n",
       "  </tbody>\n",
       "</table>\n",
       "<p>5 rows × 38 columns</p>\n",
       "</div>"
      ],
      "text/plain": [
       "   account_id  loan_id  duration  payments status  order_id bank_to  \\\n",
       "0        5891     6202        12    5432.0      A     38118      EF   \n",
       "1        5891     6202        12    5432.0      A     38118      EF   \n",
       "2        5891     6202        12    5432.0      A     38118      EF   \n",
       "3        5891     6202        12    5432.0      A     38118      EF   \n",
       "4        5891     6202        12    5432.0      A     38118      EF   \n",
       "\n",
       "   account_to  trans_id      operation     ...       \\\n",
       "0    95617645   1736607          VKLAD     ...        \n",
       "1    95617645   1736609  PREVOD Z UCTU     ...        \n",
       "2    95617645   1736950          VYBER     ...        \n",
       "3    95617645   3673340            NaN     ...        \n",
       "4    95617645   1736610  PREVOD Z UCTU     ...        \n",
       "\n",
       "   no. of commited crimes 95  no. of commited crimes 96 card_id  \\\n",
       "0                      18721                      18696     874   \n",
       "1                      18721                      18696     874   \n",
       "2                      18721                      18696     874   \n",
       "3                      18721                      18696     874   \n",
       "4                      18721                      18696     874   \n",
       "\n",
       "            issued         frequency    date disp_id client_id   type  \\\n",
       "0  971007 00:00:00  POPLATEK MESICNE  930125    7127      7127  OWNER   \n",
       "1  971007 00:00:00  POPLATEK MESICNE  930125    7127      7127  OWNER   \n",
       "2  971007 00:00:00  POPLATEK MESICNE  930125    7127      7127  OWNER   \n",
       "3  971007 00:00:00  POPLATEK MESICNE  930125    7127      7127  OWNER   \n",
       "4  971007 00:00:00  POPLATEK MESICNE  930125    7127      7127  OWNER   \n",
       "\n",
       "  birth_number  \n",
       "0       570929  \n",
       "1       570929  \n",
       "2       570929  \n",
       "3       570929  \n",
       "4       570929  \n",
       "\n",
       "[5 rows x 38 columns]"
      ]
     },
     "execution_count": 24,
     "metadata": {},
     "output_type": "execute_result"
    }
   ],
   "source": [
    "data = dataframe[['account_id', 'loan_id', 'duration', 'payments', 'status', 'order_id', 'bank_to', 'account_to', 'trans_id', 'operation', 'amount', 'balance', 'bank', 'account', 'district code', 'district name', 'region', 'no. of inhabitants', 'no. of municipalities with inhabitants < 499', 'no. of municipalities with inhabitants 500-1999', 'no. of municipalities with inhabitants 2000-9999', 'no. of municipalities with inhabitants >10000', 'no. of cities', 'ratio of urban inhabitants', 'average salary', 'unemploymant rate 95', 'unemploymant rate 96', 'no. of enterpreneurs per 1000 inhabitants', 'no. of commited crimes 95', 'no. of commited crimes 96', 'card_id', 'issued', 'frequency', 'date', 'disp_id', 'client_id', 'type', 'birth_number']]\n",
    "data.head()"
   ]
  },
  {
   "cell_type": "code",
   "execution_count": 25,
   "metadata": {},
   "outputs": [
    {
     "data": {
      "text/plain": [
       "(174249, 38)"
      ]
     },
     "execution_count": 25,
     "metadata": {},
     "output_type": "execute_result"
    }
   ],
   "source": [
    "data.shape"
   ]
  },
  {
   "cell_type": "code",
   "execution_count": 26,
   "metadata": {
    "collapsed": true
   },
   "outputs": [
    {
     "data": {
      "text/plain": [
       "account_id                                               0\n",
       "loan_id                                                  0\n",
       "duration                                                 0\n",
       "payments                                                 0\n",
       "status                                                   0\n",
       "order_id                                                 0\n",
       "bank_to                                                  0\n",
       "account_to                                               0\n",
       "trans_id                                                 0\n",
       "operation                                            24197\n",
       "amount                                                   0\n",
       "balance                                                  0\n",
       "bank                                                120490\n",
       "account                                             107567\n",
       "district code                                            0\n",
       "district name                                            0\n",
       "region                                                   0\n",
       "no. of inhabitants                                       0\n",
       "no. of municipalities with inhabitants < 499             0\n",
       "no. of municipalities with inhabitants 500-1999          0\n",
       "no. of municipalities with inhabitants 2000-9999         0\n",
       "no. of municipalities with inhabitants >10000            0\n",
       "no. of cities                                            0\n",
       "ratio of urban inhabitants                               0\n",
       "average salary                                           0\n",
       "unemploymant rate 95                                     0\n",
       "unemploymant rate 96                                     0\n",
       "no. of enterpreneurs per 1000 inhabitants                0\n",
       "no. of commited crimes 95                                0\n",
       "no. of commited crimes 96                                0\n",
       "card_id                                                  0\n",
       "issued                                                   0\n",
       "frequency                                                0\n",
       "date                                                     0\n",
       "disp_id                                                  0\n",
       "client_id                                                0\n",
       "type                                                     0\n",
       "birth_number                                             0\n",
       "dtype: int64"
      ]
     },
     "execution_count": 26,
     "metadata": {},
     "output_type": "execute_result"
    }
   ],
   "source": [
    "data.isna().sum()"
   ]
  },
  {
   "cell_type": "code",
   "execution_count": 27,
   "metadata": {},
   "outputs": [],
   "source": [
    "# Let's drop the columns with missing data"
   ]
  },
  {
   "cell_type": "code",
   "execution_count": 28,
   "metadata": {},
   "outputs": [],
   "source": [
    "data = data.drop(['operation', 'bank', 'account'], axis = 1)"
   ]
  },
  {
   "cell_type": "code",
   "execution_count": 29,
   "metadata": {
    "collapsed": true
   },
   "outputs": [
    {
     "name": "stdout",
     "output_type": "stream",
     "text": [
      "<class 'pandas.core.frame.DataFrame'>\n",
      "Int64Index: 174249 entries, 0 to 174248\n",
      "Data columns (total 35 columns):\n",
      "account_id                                          174249 non-null int64\n",
      "loan_id                                             174249 non-null int64\n",
      "duration                                            174249 non-null int64\n",
      "payments                                            174249 non-null float64\n",
      "status                                              174249 non-null object\n",
      "order_id                                            174249 non-null int64\n",
      "bank_to                                             174249 non-null object\n",
      "account_to                                          174249 non-null int64\n",
      "trans_id                                            174249 non-null int64\n",
      "amount                                              174249 non-null float64\n",
      "balance                                             174249 non-null float64\n",
      "district code                                       174249 non-null int64\n",
      "district name                                       174249 non-null object\n",
      "region                                              174249 non-null object\n",
      "no. of inhabitants                                  174249 non-null object\n",
      "no. of municipalities with inhabitants < 499        174249 non-null object\n",
      "no. of municipalities with inhabitants 500-1999     174249 non-null object\n",
      "no. of municipalities with inhabitants 2000-9999    174249 non-null object\n",
      "no. of municipalities with inhabitants >10000       174249 non-null object\n",
      "no. of cities                                       174249 non-null object\n",
      "ratio of urban inhabitants                          174249 non-null object\n",
      "average salary                                      174249 non-null object\n",
      "unemploymant rate 95                                174249 non-null object\n",
      "unemploymant rate 96                                174249 non-null object\n",
      "no. of enterpreneurs per 1000 inhabitants           174249 non-null object\n",
      "no. of commited crimes 95                           174249 non-null object\n",
      "no. of commited crimes 96                           174249 non-null object\n",
      "card_id                                             174249 non-null int64\n",
      "issued                                              174249 non-null object\n",
      "frequency                                           174249 non-null object\n",
      "date                                                174249 non-null int64\n",
      "disp_id                                             174249 non-null int64\n",
      "client_id                                           174249 non-null int64\n",
      "type                                                174249 non-null object\n",
      "birth_number                                        174249 non-null int64\n",
      "dtypes: float64(3), int64(12), object(20)\n",
      "memory usage: 47.9+ MB\n"
     ]
    }
   ],
   "source": [
    "data.info()"
   ]
  },
  {
   "cell_type": "code",
   "execution_count": 30,
   "metadata": {},
   "outputs": [],
   "source": [
    "data = data.replace('?', np.nan)"
   ]
  },
  {
   "cell_type": "code",
   "execution_count": 31,
   "metadata": {
    "collapsed": true
   },
   "outputs": [
    {
     "data": {
      "text/plain": [
       "account_id                                             0\n",
       "loan_id                                                0\n",
       "duration                                               0\n",
       "payments                                               0\n",
       "status                                                 0\n",
       "order_id                                               0\n",
       "bank_to                                                0\n",
       "account_to                                             0\n",
       "trans_id                                               0\n",
       "amount                                                 0\n",
       "balance                                                0\n",
       "district code                                          0\n",
       "district name                                          0\n",
       "region                                                 0\n",
       "no. of inhabitants                                     0\n",
       "no. of municipalities with inhabitants < 499           0\n",
       "no. of municipalities with inhabitants 500-1999        0\n",
       "no. of municipalities with inhabitants 2000-9999       0\n",
       "no. of municipalities with inhabitants >10000          0\n",
       "no. of cities                                          0\n",
       "ratio of urban inhabitants                             0\n",
       "average salary                                         0\n",
       "unemploymant rate 95                                1261\n",
       "unemploymant rate 96                                   0\n",
       "no. of enterpreneurs per 1000 inhabitants              0\n",
       "no. of commited crimes 95                           1261\n",
       "no. of commited crimes 96                              0\n",
       "card_id                                                0\n",
       "issued                                                 0\n",
       "frequency                                              0\n",
       "date                                                   0\n",
       "disp_id                                                0\n",
       "client_id                                              0\n",
       "type                                                   0\n",
       "birth_number                                           0\n",
       "dtype: int64"
      ]
     },
     "execution_count": 31,
     "metadata": {},
     "output_type": "execute_result"
    }
   ],
   "source": [
    "data.isna().sum()"
   ]
  },
  {
   "cell_type": "code",
   "execution_count": 46,
   "metadata": {},
   "outputs": [],
   "source": [
    "data[['account_id', 'loan_id', 'duration', 'status', 'order_id', 'bank_to', 'account_to', 'trans_id', 'district code', 'district name', 'region', 'card_id', 'issued', 'frequency', 'date', 'disp_id', 'client_id', 'type', 'birth_number']] = data[['account_id', 'loan_id', 'duration', 'status', 'order_id', 'bank_to', 'account_to', 'trans_id', 'district code', 'district name', 'region', 'card_id', 'issued', 'frequency', 'date', 'disp_id', 'client_id', 'type', 'birth_number']].astype(object)"
   ]
  },
  {
   "cell_type": "code",
   "execution_count": 45,
   "metadata": {
    "scrolled": true
   },
   "outputs": [],
   "source": [
    "data[['payments', 'amount', 'balance', 'ratio of urban inhabitants', 'average salary', 'unemploymant rate 95', 'unemploymant rate 96', 'no. of commited crimes 95', 'no. of commited crimes 96']] = data[['payments', 'amount', 'balance', 'ratio of urban inhabitants', 'average salary', 'unemploymant rate 95', 'unemploymant rate 96', 'no. of commited crimes 95', 'no. of commited crimes 96']].astype(float)"
   ]
  },
  {
   "cell_type": "code",
   "execution_count": 44,
   "metadata": {
    "scrolled": true
   },
   "outputs": [],
   "source": [
    "data[['no. of inhabitants', 'no. of municipalities with inhabitants < 499', 'no. of municipalities with inhabitants 500-1999', 'no. of municipalities with inhabitants 2000-9999', 'no. of municipalities with inhabitants >10000', 'no. of cities']] = data[['no. of inhabitants', 'no. of municipalities with inhabitants < 499', 'no. of municipalities with inhabitants 500-1999', 'no. of municipalities with inhabitants 2000-9999', 'no. of municipalities with inhabitants >10000', 'no. of cities']].astype(int)"
   ]
  },
  {
   "cell_type": "raw",
   "metadata": {},
   "source": [
    "def convertdt():\n",
    "    for i in data.columns:\n",
    "        print(i)\n",
    "        dtype = input(\"Input data type float or int or object for above column\\n\")\n",
    "        data[i] = data[i].astype(dtype)"
   ]
  },
  {
   "cell_type": "code",
   "execution_count": 47,
   "metadata": {},
   "outputs": [],
   "source": [
    "data[\"unemploymant rate 95\"] = data[\"unemploymant rate 95\"].fillna(np.mean(data[\"unemploymant rate 95\"]))\n",
    "data['no. of commited crimes 95'] = data['no. of commited crimes 95'].fillna(np.mean(data['no. of commited crimes 95']))"
   ]
  },
  {
   "cell_type": "code",
   "execution_count": 48,
   "metadata": {
    "collapsed": true
   },
   "outputs": [
    {
     "name": "stdout",
     "output_type": "stream",
     "text": [
      "<class 'pandas.core.frame.DataFrame'>\n",
      "Int64Index: 174249 entries, 0 to 174248\n",
      "Data columns (total 35 columns):\n",
      "account_id                                          174249 non-null object\n",
      "loan_id                                             174249 non-null object\n",
      "duration                                            174249 non-null object\n",
      "payments                                            174249 non-null float64\n",
      "status                                              174249 non-null object\n",
      "order_id                                            174249 non-null object\n",
      "bank_to                                             174249 non-null object\n",
      "account_to                                          174249 non-null object\n",
      "trans_id                                            174249 non-null object\n",
      "amount                                              174249 non-null float64\n",
      "balance                                             174249 non-null float64\n",
      "district code                                       174249 non-null object\n",
      "district name                                       174249 non-null object\n",
      "region                                              174249 non-null object\n",
      "no. of inhabitants                                  174249 non-null int64\n",
      "no. of municipalities with inhabitants < 499        174249 non-null int64\n",
      "no. of municipalities with inhabitants 500-1999     174249 non-null int64\n",
      "no. of municipalities with inhabitants 2000-9999    174249 non-null int64\n",
      "no. of municipalities with inhabitants >10000       174249 non-null int64\n",
      "no. of cities                                       174249 non-null int64\n",
      "ratio of urban inhabitants                          174249 non-null float64\n",
      "average salary                                      174249 non-null float64\n",
      "unemploymant rate 95                                174249 non-null float64\n",
      "unemploymant rate 96                                174249 non-null float64\n",
      "no. of enterpreneurs per 1000 inhabitants           174249 non-null object\n",
      "no. of commited crimes 95                           174249 non-null float64\n",
      "no. of commited crimes 96                           174249 non-null float64\n",
      "card_id                                             174249 non-null object\n",
      "issued                                              174249 non-null object\n",
      "frequency                                           174249 non-null object\n",
      "date                                                174249 non-null object\n",
      "disp_id                                             174249 non-null object\n",
      "client_id                                           174249 non-null object\n",
      "type                                                174249 non-null object\n",
      "birth_number                                        174249 non-null object\n",
      "dtypes: float64(9), int64(6), object(20)\n",
      "memory usage: 47.9+ MB\n"
     ]
    }
   ],
   "source": [
    "data.info()"
   ]
  },
  {
   "cell_type": "code",
   "execution_count": 49,
   "metadata": {},
   "outputs": [],
   "source": [
    "data_num = data.select_dtypes(exclude = ['object'])\n",
    "data_cat = data.select_dtypes(include = ['object'])"
   ]
  },
  {
   "cell_type": "code",
   "execution_count": 50,
   "metadata": {
    "scrolled": true
   },
   "outputs": [
    {
     "data": {
      "text/plain": [
       "((174249, 20), (174249, 15))"
      ]
     },
     "execution_count": 50,
     "metadata": {},
     "output_type": "execute_result"
    }
   ],
   "source": [
    "data_cat.shape, data_num.shape"
   ]
  },
  {
   "cell_type": "code",
   "execution_count": 51,
   "metadata": {},
   "outputs": [
    {
     "data": {
      "text/html": [
       "<div>\n",
       "<style scoped>\n",
       "    .dataframe tbody tr th:only-of-type {\n",
       "        vertical-align: middle;\n",
       "    }\n",
       "\n",
       "    .dataframe tbody tr th {\n",
       "        vertical-align: top;\n",
       "    }\n",
       "\n",
       "    .dataframe thead th {\n",
       "        text-align: right;\n",
       "    }\n",
       "</style>\n",
       "<table border=\"1\" class=\"dataframe\">\n",
       "  <thead>\n",
       "    <tr style=\"text-align: right;\">\n",
       "      <th></th>\n",
       "      <th>payments</th>\n",
       "      <th>amount</th>\n",
       "      <th>balance</th>\n",
       "      <th>no. of inhabitants</th>\n",
       "      <th>no. of municipalities with inhabitants &lt; 499</th>\n",
       "      <th>no. of municipalities with inhabitants 500-1999</th>\n",
       "      <th>no. of municipalities with inhabitants 2000-9999</th>\n",
       "      <th>no. of municipalities with inhabitants &gt;10000</th>\n",
       "      <th>no. of cities</th>\n",
       "      <th>ratio of urban inhabitants</th>\n",
       "      <th>average salary</th>\n",
       "      <th>unemploymant rate 95</th>\n",
       "      <th>unemploymant rate 96</th>\n",
       "      <th>no. of commited crimes 95</th>\n",
       "      <th>no. of commited crimes 96</th>\n",
       "    </tr>\n",
       "  </thead>\n",
       "  <tbody>\n",
       "    <tr>\n",
       "      <th>0</th>\n",
       "      <td>5432.0</td>\n",
       "      <td>900.0</td>\n",
       "      <td>900.0</td>\n",
       "      <td>387570</td>\n",
       "      <td>0</td>\n",
       "      <td>0</td>\n",
       "      <td>0</td>\n",
       "      <td>1</td>\n",
       "      <td>1</td>\n",
       "      <td>100.0</td>\n",
       "      <td>9897.0</td>\n",
       "      <td>1.6</td>\n",
       "      <td>1.96</td>\n",
       "      <td>18721.0</td>\n",
       "      <td>18696.0</td>\n",
       "    </tr>\n",
       "    <tr>\n",
       "      <th>1</th>\n",
       "      <td>5432.0</td>\n",
       "      <td>32594.0</td>\n",
       "      <td>33494.0</td>\n",
       "      <td>387570</td>\n",
       "      <td>0</td>\n",
       "      <td>0</td>\n",
       "      <td>0</td>\n",
       "      <td>1</td>\n",
       "      <td>1</td>\n",
       "      <td>100.0</td>\n",
       "      <td>9897.0</td>\n",
       "      <td>1.6</td>\n",
       "      <td>1.96</td>\n",
       "      <td>18721.0</td>\n",
       "      <td>18696.0</td>\n",
       "    </tr>\n",
       "    <tr>\n",
       "      <th>2</th>\n",
       "      <td>5432.0</td>\n",
       "      <td>4500.0</td>\n",
       "      <td>28994.0</td>\n",
       "      <td>387570</td>\n",
       "      <td>0</td>\n",
       "      <td>0</td>\n",
       "      <td>0</td>\n",
       "      <td>1</td>\n",
       "      <td>1</td>\n",
       "      <td>100.0</td>\n",
       "      <td>9897.0</td>\n",
       "      <td>1.6</td>\n",
       "      <td>1.96</td>\n",
       "      <td>18721.0</td>\n",
       "      <td>18696.0</td>\n",
       "    </tr>\n",
       "    <tr>\n",
       "      <th>3</th>\n",
       "      <td>5432.0</td>\n",
       "      <td>21.6</td>\n",
       "      <td>29015.6</td>\n",
       "      <td>387570</td>\n",
       "      <td>0</td>\n",
       "      <td>0</td>\n",
       "      <td>0</td>\n",
       "      <td>1</td>\n",
       "      <td>1</td>\n",
       "      <td>100.0</td>\n",
       "      <td>9897.0</td>\n",
       "      <td>1.6</td>\n",
       "      <td>1.96</td>\n",
       "      <td>18721.0</td>\n",
       "      <td>18696.0</td>\n",
       "    </tr>\n",
       "    <tr>\n",
       "      <th>4</th>\n",
       "      <td>5432.0</td>\n",
       "      <td>32594.0</td>\n",
       "      <td>61609.6</td>\n",
       "      <td>387570</td>\n",
       "      <td>0</td>\n",
       "      <td>0</td>\n",
       "      <td>0</td>\n",
       "      <td>1</td>\n",
       "      <td>1</td>\n",
       "      <td>100.0</td>\n",
       "      <td>9897.0</td>\n",
       "      <td>1.6</td>\n",
       "      <td>1.96</td>\n",
       "      <td>18721.0</td>\n",
       "      <td>18696.0</td>\n",
       "    </tr>\n",
       "  </tbody>\n",
       "</table>\n",
       "</div>"
      ],
      "text/plain": [
       "   payments   amount  balance  no. of inhabitants  \\\n",
       "0    5432.0    900.0    900.0              387570   \n",
       "1    5432.0  32594.0  33494.0              387570   \n",
       "2    5432.0   4500.0  28994.0              387570   \n",
       "3    5432.0     21.6  29015.6              387570   \n",
       "4    5432.0  32594.0  61609.6              387570   \n",
       "\n",
       "   no. of municipalities with inhabitants < 499  \\\n",
       "0                                             0   \n",
       "1                                             0   \n",
       "2                                             0   \n",
       "3                                             0   \n",
       "4                                             0   \n",
       "\n",
       "   no. of municipalities with inhabitants 500-1999  \\\n",
       "0                                                0   \n",
       "1                                                0   \n",
       "2                                                0   \n",
       "3                                                0   \n",
       "4                                                0   \n",
       "\n",
       "   no. of municipalities with inhabitants 2000-9999  \\\n",
       "0                                                 0   \n",
       "1                                                 0   \n",
       "2                                                 0   \n",
       "3                                                 0   \n",
       "4                                                 0   \n",
       "\n",
       "   no. of municipalities with inhabitants >10000  no. of cities  \\\n",
       "0                                              1              1   \n",
       "1                                              1              1   \n",
       "2                                              1              1   \n",
       "3                                              1              1   \n",
       "4                                              1              1   \n",
       "\n",
       "   ratio of urban inhabitants  average salary  unemploymant rate 95  \\\n",
       "0                       100.0          9897.0                   1.6   \n",
       "1                       100.0          9897.0                   1.6   \n",
       "2                       100.0          9897.0                   1.6   \n",
       "3                       100.0          9897.0                   1.6   \n",
       "4                       100.0          9897.0                   1.6   \n",
       "\n",
       "   unemploymant rate 96  no. of commited crimes 95  no. of commited crimes 96  \n",
       "0                  1.96                    18721.0                    18696.0  \n",
       "1                  1.96                    18721.0                    18696.0  \n",
       "2                  1.96                    18721.0                    18696.0  \n",
       "3                  1.96                    18721.0                    18696.0  \n",
       "4                  1.96                    18721.0                    18696.0  "
      ]
     },
     "execution_count": 51,
     "metadata": {},
     "output_type": "execute_result"
    }
   ],
   "source": [
    "data_num.head()"
   ]
  },
  {
   "cell_type": "code",
   "execution_count": 52,
   "metadata": {
    "scrolled": true
   },
   "outputs": [
    {
     "data": {
      "text/html": [
       "<div>\n",
       "<style scoped>\n",
       "    .dataframe tbody tr th:only-of-type {\n",
       "        vertical-align: middle;\n",
       "    }\n",
       "\n",
       "    .dataframe tbody tr th {\n",
       "        vertical-align: top;\n",
       "    }\n",
       "\n",
       "    .dataframe thead th {\n",
       "        text-align: right;\n",
       "    }\n",
       "</style>\n",
       "<table border=\"1\" class=\"dataframe\">\n",
       "  <thead>\n",
       "    <tr style=\"text-align: right;\">\n",
       "      <th></th>\n",
       "      <th>account_id</th>\n",
       "      <th>loan_id</th>\n",
       "      <th>duration</th>\n",
       "      <th>status</th>\n",
       "      <th>order_id</th>\n",
       "      <th>bank_to</th>\n",
       "      <th>account_to</th>\n",
       "      <th>trans_id</th>\n",
       "      <th>district code</th>\n",
       "      <th>district name</th>\n",
       "      <th>region</th>\n",
       "      <th>no. of enterpreneurs per 1000 inhabitants</th>\n",
       "      <th>card_id</th>\n",
       "      <th>issued</th>\n",
       "      <th>frequency</th>\n",
       "      <th>date</th>\n",
       "      <th>disp_id</th>\n",
       "      <th>client_id</th>\n",
       "      <th>type</th>\n",
       "      <th>birth_number</th>\n",
       "    </tr>\n",
       "  </thead>\n",
       "  <tbody>\n",
       "    <tr>\n",
       "      <th>0</th>\n",
       "      <td>5891</td>\n",
       "      <td>6202</td>\n",
       "      <td>12</td>\n",
       "      <td>A</td>\n",
       "      <td>38118</td>\n",
       "      <td>EF</td>\n",
       "      <td>95617645</td>\n",
       "      <td>1736607</td>\n",
       "      <td>54</td>\n",
       "      <td>Brno - mesto</td>\n",
       "      <td>south Moravia</td>\n",
       "      <td>140</td>\n",
       "      <td>874</td>\n",
       "      <td>971007 00:00:00</td>\n",
       "      <td>POPLATEK MESICNE</td>\n",
       "      <td>930125</td>\n",
       "      <td>7127</td>\n",
       "      <td>7127</td>\n",
       "      <td>OWNER</td>\n",
       "      <td>570929</td>\n",
       "    </tr>\n",
       "    <tr>\n",
       "      <th>1</th>\n",
       "      <td>5891</td>\n",
       "      <td>6202</td>\n",
       "      <td>12</td>\n",
       "      <td>A</td>\n",
       "      <td>38118</td>\n",
       "      <td>EF</td>\n",
       "      <td>95617645</td>\n",
       "      <td>1736609</td>\n",
       "      <td>54</td>\n",
       "      <td>Brno - mesto</td>\n",
       "      <td>south Moravia</td>\n",
       "      <td>140</td>\n",
       "      <td>874</td>\n",
       "      <td>971007 00:00:00</td>\n",
       "      <td>POPLATEK MESICNE</td>\n",
       "      <td>930125</td>\n",
       "      <td>7127</td>\n",
       "      <td>7127</td>\n",
       "      <td>OWNER</td>\n",
       "      <td>570929</td>\n",
       "    </tr>\n",
       "    <tr>\n",
       "      <th>2</th>\n",
       "      <td>5891</td>\n",
       "      <td>6202</td>\n",
       "      <td>12</td>\n",
       "      <td>A</td>\n",
       "      <td>38118</td>\n",
       "      <td>EF</td>\n",
       "      <td>95617645</td>\n",
       "      <td>1736950</td>\n",
       "      <td>54</td>\n",
       "      <td>Brno - mesto</td>\n",
       "      <td>south Moravia</td>\n",
       "      <td>140</td>\n",
       "      <td>874</td>\n",
       "      <td>971007 00:00:00</td>\n",
       "      <td>POPLATEK MESICNE</td>\n",
       "      <td>930125</td>\n",
       "      <td>7127</td>\n",
       "      <td>7127</td>\n",
       "      <td>OWNER</td>\n",
       "      <td>570929</td>\n",
       "    </tr>\n",
       "    <tr>\n",
       "      <th>3</th>\n",
       "      <td>5891</td>\n",
       "      <td>6202</td>\n",
       "      <td>12</td>\n",
       "      <td>A</td>\n",
       "      <td>38118</td>\n",
       "      <td>EF</td>\n",
       "      <td>95617645</td>\n",
       "      <td>3673340</td>\n",
       "      <td>54</td>\n",
       "      <td>Brno - mesto</td>\n",
       "      <td>south Moravia</td>\n",
       "      <td>140</td>\n",
       "      <td>874</td>\n",
       "      <td>971007 00:00:00</td>\n",
       "      <td>POPLATEK MESICNE</td>\n",
       "      <td>930125</td>\n",
       "      <td>7127</td>\n",
       "      <td>7127</td>\n",
       "      <td>OWNER</td>\n",
       "      <td>570929</td>\n",
       "    </tr>\n",
       "    <tr>\n",
       "      <th>4</th>\n",
       "      <td>5891</td>\n",
       "      <td>6202</td>\n",
       "      <td>12</td>\n",
       "      <td>A</td>\n",
       "      <td>38118</td>\n",
       "      <td>EF</td>\n",
       "      <td>95617645</td>\n",
       "      <td>1736610</td>\n",
       "      <td>54</td>\n",
       "      <td>Brno - mesto</td>\n",
       "      <td>south Moravia</td>\n",
       "      <td>140</td>\n",
       "      <td>874</td>\n",
       "      <td>971007 00:00:00</td>\n",
       "      <td>POPLATEK MESICNE</td>\n",
       "      <td>930125</td>\n",
       "      <td>7127</td>\n",
       "      <td>7127</td>\n",
       "      <td>OWNER</td>\n",
       "      <td>570929</td>\n",
       "    </tr>\n",
       "  </tbody>\n",
       "</table>\n",
       "</div>"
      ],
      "text/plain": [
       "  account_id loan_id duration status order_id bank_to account_to trans_id  \\\n",
       "0       5891    6202       12      A    38118      EF   95617645  1736607   \n",
       "1       5891    6202       12      A    38118      EF   95617645  1736609   \n",
       "2       5891    6202       12      A    38118      EF   95617645  1736950   \n",
       "3       5891    6202       12      A    38118      EF   95617645  3673340   \n",
       "4       5891    6202       12      A    38118      EF   95617645  1736610   \n",
       "\n",
       "  district code district name         region  \\\n",
       "0            54  Brno - mesto  south Moravia   \n",
       "1            54  Brno - mesto  south Moravia   \n",
       "2            54  Brno - mesto  south Moravia   \n",
       "3            54  Brno - mesto  south Moravia   \n",
       "4            54  Brno - mesto  south Moravia   \n",
       "\n",
       "  no. of enterpreneurs per 1000 inhabitants card_id           issued  \\\n",
       "0                                       140     874  971007 00:00:00   \n",
       "1                                       140     874  971007 00:00:00   \n",
       "2                                       140     874  971007 00:00:00   \n",
       "3                                       140     874  971007 00:00:00   \n",
       "4                                       140     874  971007 00:00:00   \n",
       "\n",
       "          frequency    date disp_id client_id   type birth_number  \n",
       "0  POPLATEK MESICNE  930125    7127      7127  OWNER       570929  \n",
       "1  POPLATEK MESICNE  930125    7127      7127  OWNER       570929  \n",
       "2  POPLATEK MESICNE  930125    7127      7127  OWNER       570929  \n",
       "3  POPLATEK MESICNE  930125    7127      7127  OWNER       570929  \n",
       "4  POPLATEK MESICNE  930125    7127      7127  OWNER       570929  "
      ]
     },
     "execution_count": 52,
     "metadata": {},
     "output_type": "execute_result"
    }
   ],
   "source": [
    "data_cat.head()"
   ]
  },
  {
   "cell_type": "code",
   "execution_count": 80,
   "metadata": {
    "scrolled": false
   },
   "outputs": [
    {
     "data": {
      "text/plain": [
       "12    55188\n",
       "60    36052\n",
       "24    29432\n",
       "48    28378\n",
       "36    25199\n",
       "Name: duration, dtype: int64"
      ]
     },
     "execution_count": 80,
     "metadata": {},
     "output_type": "execute_result"
    }
   ],
   "source": [
    "data_cat.duration.value_counts()"
   ]
  },
  {
   "cell_type": "code",
   "execution_count": 54,
   "metadata": {},
   "outputs": [
    {
     "data": {
      "text/plain": [
       "OWNER        128019\n",
       "DISPONENT     46230\n",
       "Name: type, dtype: int64"
      ]
     },
     "execution_count": 54,
     "metadata": {},
     "output_type": "execute_result"
    }
   ],
   "source": [
    "data_cat.type.value_counts()"
   ]
  },
  {
   "cell_type": "code",
   "execution_count": 55,
   "metadata": {
    "scrolled": true
   },
   "outputs": [
    {
     "data": {
      "text/plain": [
       "C    87493\n",
       "A    83278\n",
       "B     2526\n",
       "D      952\n",
       "Name: status, dtype: int64"
      ]
     },
     "execution_count": 55,
     "metadata": {},
     "output_type": "execute_result"
    }
   ],
   "source": [
    "data_cat.status.value_counts()"
   ]
  },
  {
   "cell_type": "code",
   "execution_count": 56,
   "metadata": {},
   "outputs": [
    {
     "data": {
      "text/plain": [
       "POPLATEK MESICNE      153477\n",
       "POPLATEK TYDNE         16717\n",
       "POPLATEK PO OBRATU      4055\n",
       "Name: frequency, dtype: int64"
      ]
     },
     "execution_count": 56,
     "metadata": {},
     "output_type": "execute_result"
    }
   ],
   "source": [
    "data_cat.frequency.value_counts()"
   ]
  },
  {
   "cell_type": "code",
   "execution_count": 93,
   "metadata": {},
   "outputs": [],
   "source": [
    "def check_value_counts(x):\n",
    "    return len(x.value_counts())"
   ]
  },
  {
   "cell_type": "code",
   "execution_count": 94,
   "metadata": {},
   "outputs": [
    {
     "data": {
      "text/plain": [
       "account_id                                     170\n",
       "loan_id                                        170\n",
       "duration                                         5\n",
       "status                                           4\n",
       "order_id                                       354\n",
       "bank_to                                         13\n",
       "account_to                                     351\n",
       "trans_id                                     47127\n",
       "district code                                   60\n",
       "district name                                   60\n",
       "region                                           8\n",
       "no. of enterpreneurs per 1000 inhabitants       36\n",
       "card_id                                        170\n",
       "issued                                         160\n",
       "frequency                                        3\n",
       "date                                           162\n",
       "disp_id                                        206\n",
       "client_id                                      206\n",
       "type                                             2\n",
       "birth_number                                   205\n",
       "dtype: int64"
      ]
     },
     "execution_count": 94,
     "metadata": {},
     "output_type": "execute_result"
    }
   ],
   "source": [
    "data_cat.apply(lambda x: check_value_counts(x))"
   ]
  },
  {
   "cell_type": "code",
   "execution_count": 104,
   "metadata": {},
   "outputs": [],
   "source": [
    "data_cat_dum = pd.get_dummies(data_cat[['duration', 'status', 'bank_to', 'region','frequency','type']])"
   ]
  },
  {
   "cell_type": "code",
   "execution_count": 163,
   "metadata": {},
   "outputs": [],
   "source": [
    "from sklearn.preprocessing import StandardScaler\n",
    "scaler = StandardScaler()"
   ]
  },
  {
   "cell_type": "code",
   "execution_count": 164,
   "metadata": {},
   "outputs": [
    {
     "name": "stderr",
     "output_type": "stream",
     "text": [
      "/home/m/anaconda3/lib/python3.6/site-packages/sklearn/preprocessing/data.py:625: DataConversionWarning: Data with input dtype int64, float64 were all converted to float64 by StandardScaler.\n",
      "  return self.partial_fit(X, y)\n",
      "/home/m/anaconda3/lib/python3.6/site-packages/sklearn/base.py:462: DataConversionWarning: Data with input dtype int64, float64 were all converted to float64 by StandardScaler.\n",
      "  return self.fit(X, **fit_params).transform(X)\n"
     ]
    }
   ],
   "source": [
    "data_num_sca = scaler.fit_transform(data_num)"
   ]
  },
  {
   "cell_type": "code",
   "execution_count": 169,
   "metadata": {},
   "outputs": [],
   "source": [
    "data_num_sca = pd.DataFrame(data_num_sca, index = data_num.index, columns = data_num.columns)"
   ]
  },
  {
   "cell_type": "code",
   "execution_count": 170,
   "metadata": {},
   "outputs": [],
   "source": [
    "data_new = pd.concat([data_cat_dum, data_num_sca], axis = 1)"
   ]
  },
  {
   "cell_type": "code",
   "execution_count": 171,
   "metadata": {},
   "outputs": [
    {
     "data": {
      "text/plain": [
       "(174249, 50)"
      ]
     },
     "execution_count": 171,
     "metadata": {},
     "output_type": "execute_result"
    }
   ],
   "source": [
    "data_new.shape"
   ]
  },
  {
   "cell_type": "code",
   "execution_count": 74,
   "metadata": {},
   "outputs": [
    {
     "data": {
      "text/plain": [
       "0    165637\n",
       "1      8612\n",
       "Name: 0, dtype: int64"
      ]
     },
     "execution_count": 74,
     "metadata": {},
     "output_type": "execute_result"
    }
   ],
   "source": [
    "pd.DataFrame((np.random.random(len(data)) < .05).astype(int))[0].value_counts()"
   ]
  },
  {
   "cell_type": "code",
   "execution_count": 172,
   "metadata": {},
   "outputs": [],
   "source": [
    "from sklearn.decomposition import PCA"
   ]
  },
  {
   "cell_type": "code",
   "execution_count": 173,
   "metadata": {},
   "outputs": [],
   "source": [
    "pca = PCA()\n",
    "pca.fit(data_new)\n",
    "features = range(pca.n_components_)"
   ]
  },
  {
   "cell_type": "code",
   "execution_count": 174,
   "metadata": {},
   "outputs": [
    {
     "data": {
      "image/png": "[encoded data removed]",
      "text/plain": [
       "<Figure size 432x288 with 1 Axes>"
      ]
     },
     "metadata": {},
     "output_type": "display_data"
    }
   ],
   "source": [
    "plt.bar(features, pca.explained_variance_)\n",
    "plt.xticks(features)\n",
    "plt.ylabel('variance')\n",
    "plt.xlabel('pca features')\n",
    "plt.show()"
   ]
  },
  {
   "cell_type": "code",
   "execution_count": 175,
   "metadata": {},
   "outputs": [],
   "source": [
    "pca = PCA(n_components = 2).fit(data_new)"
   ]
  },
  {
   "cell_type": "code",
   "execution_count": 176,
   "metadata": {},
   "outputs": [],
   "source": [
    "data_new_pca = pca.transform(data_new)"
   ]
  },
  {
   "cell_type": "code",
   "execution_count": 197,
   "metadata": {},
   "outputs": [
    {
     "data": {
      "text/plain": [
       "array([[ 2.71351876,  0.18095986],\n",
       "       [ 2.66727558,  0.3644975 ],\n",
       "       [ 2.68302506,  0.26666738],\n",
       "       ...,\n",
       "       [-1.03763393,  2.38163657],\n",
       "       [-1.09338996,  2.59792743],\n",
       "       [-1.07778887,  2.47609954]])"
      ]
     },
     "execution_count": 197,
     "metadata": {},
     "output_type": "execute_result"
    }
   ],
   "source": [
    "data_new_pca"
   ]
  },
  {
   "cell_type": "code",
   "execution_count": 198,
   "metadata": {},
   "outputs": [],
   "source": [
    "from sklearn.cluster import KMeans"
   ]
  },
  {
   "cell_type": "code",
   "execution_count": 248,
   "metadata": {},
   "outputs": [],
   "source": [
    "kmeans = KMeans(n_clusters = 10)"
   ]
  },
  {
   "cell_type": "code",
   "execution_count": 249,
   "metadata": {},
   "outputs": [
    {
     "data": {
      "text/plain": [
       "KMeans(algorithm='auto', copy_x=True, init='k-means++', max_iter=300,\n",
       "    n_clusters=10, n_init=10, n_jobs=None, precompute_distances='auto',\n",
       "    random_state=None, tol=0.0001, verbose=0)"
      ]
     },
     "execution_count": 249,
     "metadata": {},
     "output_type": "execute_result"
    }
   ],
   "source": [
    "kmeans.fit(data_new_pca)"
   ]
  },
  {
   "cell_type": "code",
   "execution_count": 250,
   "metadata": {},
   "outputs": [],
   "source": [
    "labels = kmeans.predict(data_new_pca)"
   ]
  },
  {
   "cell_type": "code",
   "execution_count": 251,
   "metadata": {},
   "outputs": [
    {
     "data": {
      "text/plain": [
       "array([7, 7, 7, ..., 4, 4, 4], dtype=int32)"
      ]
     },
     "execution_count": 251,
     "metadata": {},
     "output_type": "execute_result"
    }
   ],
   "source": [
    "labels"
   ]
  },
  {
   "cell_type": "code",
   "execution_count": 252,
   "metadata": {},
   "outputs": [
    {
     "data": {
      "text/plain": [
       "5    48676\n",
       "3    26270\n",
       "2    17456\n",
       "8    17273\n",
       "4    16543\n",
       "0    15832\n",
       "9    12549\n",
       "1    12461\n",
       "7     3725\n",
       "6     3464\n",
       "Name: 0, dtype: int64"
      ]
     },
     "execution_count": 252,
     "metadata": {},
     "output_type": "execute_result"
    }
   ],
   "source": [
    "pd.DataFrame(labels)[0].value_counts()"
   ]
  },
  {
   "cell_type": "code",
   "execution_count": 253,
   "metadata": {},
   "outputs": [],
   "source": [
    "import matplotlib.pyplot as plt"
   ]
  },
  {
   "cell_type": "code",
   "execution_count": 254,
   "metadata": {},
   "outputs": [
    {
     "name": "stderr",
     "output_type": "stream",
     "text": [
      "No handles with labels found to put in legend.\n"
     ]
    },
    {
     "data": {
      "image/png": "[encoded data removed]",
      "text/plain": [
       "<Figure size 432x288 with 1 Axes>"
      ]
     },
     "metadata": {},
     "output_type": "display_data"
    }
   ],
   "source": [
    "plt.scatter(x =(data_new_pca)[:,0], y = (data_new_pca)[:,1], marker = 'o', c = labels)\n",
    "plt.legend()\n",
    "plt.show()"
   ]
  },
  {
   "cell_type": "code",
   "execution_count": 255,
   "metadata": {},
   "outputs": [],
   "source": [
    "to_plot = pd.concat([pd.DataFrame(data_new_pca, columns= ['x', 'y']), pd.DataFrame(labels, columns= ['label'])], axis = 1)# "
   ]
  },
  {
   "cell_type": "code",
   "execution_count": 256,
   "metadata": {},
   "outputs": [],
   "source": [
    "import seaborn as sns"
   ]
  },
  {
   "cell_type": "code",
   "execution_count": 257,
   "metadata": {},
   "outputs": [
    {
     "name": "stderr",
     "output_type": "stream",
     "text": [
      "/home/m/anaconda3/lib/python3.6/site-packages/scipy/stats/stats.py:1713: FutureWarning: Using a non-tuple sequence for multidimensional indexing is deprecated; use `arr[tuple(seq)]` instead of `arr[seq]`. In the future this will be interpreted as an array index, `arr[np.array(seq)]`, which will result either in an error or a different result.\n",
      "  return np.add.reduce(sorted[indexer] * weights, axis=axis) / sumval\n"
     ]
    },
    {
     "data": {
      "image/png": "[encoded data removed]",
      "text/plain": [
       "<Figure size 402.375x360 with 1 Axes>"
      ]
     },
     "metadata": {},
     "output_type": "display_data"
    }
   ],
   "source": [
    "sns.lmplot(data = to_plot, x = 'x', y = 'y', hue = 'label' , legend = True)\n",
    "plt.show()"
   ]
  },
  {
   "cell_type": "code",
   "execution_count": 264,
   "metadata": {},
   "outputs": [],
   "source": [
    "sb = pd.DataFrame(labels, columns= ['label'])"
   ]
  },
  {
   "cell_type": "code",
   "execution_count": 265,
   "metadata": {},
   "outputs": [],
   "source": [
    "sb['flag'] = 0"
   ]
  },
  {
   "cell_type": "code",
   "execution_count": 268,
   "metadata": {},
   "outputs": [
    {
     "name": "stderr",
     "output_type": "stream",
     "text": [
      "/home/m/anaconda3/lib/python3.6/site-packages/ipykernel_launcher.py:1: SettingWithCopyWarning: \n",
      "A value is trying to be set on a copy of a slice from a DataFrame\n",
      "\n",
      "See the caveats in the documentation: http://pandas.pydata.org/pandas-docs/stable/indexing.html#indexing-view-versus-copy\n",
      "  \"\"\"Entry point for launching an IPython kernel.\n"
     ]
    }
   ],
   "source": [
    "sb.flag[sb.label == 6] = 1"
   ]
  },
  {
   "cell_type": "code",
   "execution_count": 270,
   "metadata": {},
   "outputs": [
    {
     "data": {
      "text/plain": [
       "0    170785\n",
       "1      3464\n",
       "Name: flag, dtype: int64"
      ]
     },
     "execution_count": 270,
     "metadata": {},
     "output_type": "execute_result"
    }
   ],
   "source": [
    "sb.flag.value_counts()"
   ]
  },
  {
   "cell_type": "code",
   "execution_count": 271,
   "metadata": {},
   "outputs": [],
   "source": [
    "## let's do classification"
   ]
  },
  {
   "cell_type": "code",
   "execution_count": 279,
   "metadata": {
    "scrolled": true
   },
   "outputs": [],
   "source": [
    "data_new_sb = pd.concat([data_new, sb.flag], axis= 1)\n",
    "data_new_pca_sb = pd.concat([pd.DataFrame(data_new_pca), sb.flag], axis= 1)"
   ]
  },
  {
   "cell_type": "code",
   "execution_count": 281,
   "metadata": {},
   "outputs": [],
   "source": [
    "X = data_new_sb.drop('flag', axis = 1)\n",
    "y = data_new_sb.flag\n",
    "\n",
    "X_pca = data_new_pca_sb.drop('flag', axis = 1)\n",
    "y_pca = data_new_pca_sb.flag"
   ]
  },
  {
   "cell_type": "code",
   "execution_count": 284,
   "metadata": {},
   "outputs": [],
   "source": [
    "X_train, X_test, y_train, y_test = train_test_split(X, y, test_size = 0.2, random_state = 1)\n",
    "X_train_pca, X_test_pca, y_train_pca, y_test_pca = train_test_split(X_pca, y_pca, test_size = 0.2, random_state = 1)"
   ]
  },
  {
   "cell_type": "code",
   "execution_count": null,
   "metadata": {},
   "outputs": [],
   "source": [
    "#using model_fit for the regular dataset with all columns of data"
   ]
  },
  {
   "cell_type": "code",
   "execution_count": 292,
   "metadata": {},
   "outputs": [],
   "source": [
    "def model_fit(x):\n",
    "    x.fit(X_train, y_train)\n",
    "    y_pred = x.predict(X_test)\n",
    "    model_fit.accuracy = accuracy_score(y_pred, y_test)\n",
    "    print('Accuracy Score',accuracy_score(y_pred, y_test))\n",
    "    print(classification_report(y_pred, y_test))\n",
    "    print('Confusion Matrix \\n',confusion_matrix(y_pred, y_test))\n",
    "    "
   ]
  },
  {
   "cell_type": "code",
   "execution_count": 293,
   "metadata": {},
   "outputs": [
    {
     "name": "stdout",
     "output_type": "stream",
     "text": [
      "Accuracy Score 1.0\n",
      "              precision    recall  f1-score   support\n",
      "\n",
      "           0       1.00      1.00      1.00     34181\n",
      "           1       1.00      1.00      1.00       669\n",
      "\n",
      "   micro avg       1.00      1.00      1.00     34850\n",
      "   macro avg       1.00      1.00      1.00     34850\n",
      "weighted avg       1.00      1.00      1.00     34850\n",
      "\n",
      "Confusion Matrix \n",
      " [[34181     0]\n",
      " [    0   669]]\n"
     ]
    }
   ],
   "source": [
    "model_fit(KNeighborsClassifier(n_neighbors = 4))\n",
    "KNN = model_fit.accuracy"
   ]
  },
  {
   "cell_type": "code",
   "execution_count": 287,
   "metadata": {},
   "outputs": [
    {
     "name": "stderr",
     "output_type": "stream",
     "text": [
      "/home/m/anaconda3/lib/python3.6/site-packages/sklearn/linear_model/logistic.py:433: FutureWarning: Default solver will be changed to 'lbfgs' in 0.22. Specify a solver to silence this warning.\n",
      "  FutureWarning)\n"
     ]
    },
    {
     "name": "stdout",
     "output_type": "stream",
     "text": [
      "Accuracy Score 1.0\n",
      "              precision    recall  f1-score   support\n",
      "\n",
      "           0       1.00      1.00      1.00     34181\n",
      "           1       1.00      1.00      1.00       669\n",
      "\n",
      "   micro avg       1.00      1.00      1.00     34850\n",
      "   macro avg       1.00      1.00      1.00     34850\n",
      "weighted avg       1.00      1.00      1.00     34850\n",
      "\n"
     ]
    }
   ],
   "source": [
    "from sklearn.linear_model import LogisticRegression\n",
    "model_fit(LogisticRegression())\n",
    "Logistic = model_fit.accuracy"
   ]
  },
  {
   "cell_type": "code",
   "execution_count": 294,
   "metadata": {},
   "outputs": [
    {
     "name": "stdout",
     "output_type": "stream",
     "text": [
      "Accuracy Score 1.0\n",
      "              precision    recall  f1-score   support\n",
      "\n",
      "           0       1.00      1.00      1.00     34181\n",
      "           1       1.00      1.00      1.00       669\n",
      "\n",
      "   micro avg       1.00      1.00      1.00     34850\n",
      "   macro avg       1.00      1.00      1.00     34850\n",
      "weighted avg       1.00      1.00      1.00     34850\n",
      "\n",
      "Confusion Matrix \n",
      " [[34181     0]\n",
      " [    0   669]]\n"
     ]
    }
   ],
   "source": [
    "from sklearn.naive_bayes import GaussianNB\n",
    "model_fit(GaussianNB())\n",
    "Gaussian = model_fit.accuracy"
   ]
  },
  {
   "cell_type": "code",
   "execution_count": 295,
   "metadata": {},
   "outputs": [
    {
     "name": "stdout",
     "output_type": "stream",
     "text": [
      "Accuracy Score 1.0\n",
      "              precision    recall  f1-score   support\n",
      "\n",
      "           0       1.00      1.00      1.00     34181\n",
      "           1       1.00      1.00      1.00       669\n",
      "\n",
      "   micro avg       1.00      1.00      1.00     34850\n",
      "   macro avg       1.00      1.00      1.00     34850\n",
      "weighted avg       1.00      1.00      1.00     34850\n",
      "\n",
      "Confusion Matrix \n",
      " [[34181     0]\n",
      " [    0   669]]\n"
     ]
    }
   ],
   "source": [
    "from sklearn import tree\n",
    "model_fit(tree.DecisionTreeClassifier())\n",
    "Tree = model_fit.accuracy"
   ]
  },
  {
   "cell_type": "code",
   "execution_count": 296,
   "metadata": {},
   "outputs": [
    {
     "name": "stdout",
     "output_type": "stream",
     "text": [
      "Accuracy Score 1.0\n",
      "              precision    recall  f1-score   support\n",
      "\n",
      "           0       1.00      1.00      1.00     34181\n",
      "           1       1.00      1.00      1.00       669\n",
      "\n",
      "   micro avg       1.00      1.00      1.00     34850\n",
      "   macro avg       1.00      1.00      1.00     34850\n",
      "weighted avg       1.00      1.00      1.00     34850\n",
      "\n",
      "Confusion Matrix \n",
      " [[34181     0]\n",
      " [    0   669]]\n"
     ]
    }
   ],
   "source": [
    "from sklearn.ensemble import RandomForestClassifier\n",
    "model_fit(RandomForestClassifier(n_estimators = 100, max_depth =10, random_state = 1))\n",
    "RandomForest = model_fit.accuracy"
   ]
  },
  {
   "cell_type": "code",
   "execution_count": null,
   "metadata": {},
   "outputs": [],
   "source": []
  },
  {
   "cell_type": "code",
   "execution_count": 320,
   "metadata": {},
   "outputs": [
    {
     "name": "stderr",
     "output_type": "stream",
     "text": [
      "/home/m/anaconda3/lib/python3.6/site-packages/sklearn/ensemble/forest.py:246: FutureWarning: The default value of n_estimators will change from 10 in version 0.20 to 100 in 0.22.\n",
      "  \"10 in version 0.20 to 100 in 0.22.\", FutureWarning)\n"
     ]
    }
   ],
   "source": [
    "m = RandomForestClassifier().fit(X_train, y_train)"
   ]
  },
  {
   "cell_type": "code",
   "execution_count": 321,
   "metadata": {},
   "outputs": [
    {
     "data": {
      "image/png": "[encoded data removed]",
      "text/plain": [
       "<Figure size 720x360 with 1 Axes>"
      ]
     },
     "metadata": {},
     "output_type": "display_data"
    }
   ],
   "source": [
    "x = pd.DataFrame(m.feature_importances_, X_train.columns)\n",
    "pd.DataFrame(x[0].sort_values(ascending = False)[0:20]).iloc[:,:1].plot.barh(figsize=(10,5))\n",
    "plt.show()"
   ]
  },
  {
   "cell_type": "code",
   "execution_count": 304,
   "metadata": {},
   "outputs": [],
   "source": [
    "scores_list_1 = ['KNN','Logistic','Gaussian','Tree','RandomForest']\n",
    "scores_1 = [KNN, Logistic, Gaussian, Tree, RandomForest, ]"
   ]
  },
  {
   "cell_type": "code",
   "execution_count": 305,
   "metadata": {},
   "outputs": [],
   "source": [
    "score_df_classification = pd.DataFrame([scores_list_1, scores_1]).T"
   ]
  },
  {
   "cell_type": "code",
   "execution_count": 306,
   "metadata": {},
   "outputs": [
    {
     "data": {
      "text/html": [
       "<div>\n",
       "<style scoped>\n",
       "    .dataframe tbody tr th:only-of-type {\n",
       "        vertical-align: middle;\n",
       "    }\n",
       "\n",
       "    .dataframe tbody tr th {\n",
       "        vertical-align: top;\n",
       "    }\n",
       "\n",
       "    .dataframe thead th {\n",
       "        text-align: right;\n",
       "    }\n",
       "</style>\n",
       "<table border=\"1\" class=\"dataframe\">\n",
       "  <thead>\n",
       "    <tr style=\"text-align: right;\">\n",
       "      <th></th>\n",
       "      <th>1</th>\n",
       "    </tr>\n",
       "    <tr>\n",
       "      <th>0</th>\n",
       "      <th></th>\n",
       "    </tr>\n",
       "  </thead>\n",
       "  <tbody>\n",
       "    <tr>\n",
       "      <th>KNN</th>\n",
       "      <td>1</td>\n",
       "    </tr>\n",
       "    <tr>\n",
       "      <th>Logistic</th>\n",
       "      <td>1</td>\n",
       "    </tr>\n",
       "    <tr>\n",
       "      <th>Gaussian</th>\n",
       "      <td>1</td>\n",
       "    </tr>\n",
       "    <tr>\n",
       "      <th>Tree</th>\n",
       "      <td>1</td>\n",
       "    </tr>\n",
       "    <tr>\n",
       "      <th>RandomForest</th>\n",
       "      <td>1</td>\n",
       "    </tr>\n",
       "  </tbody>\n",
       "</table>\n",
       "</div>"
      ],
      "text/plain": [
       "              1\n",
       "0              \n",
       "KNN           1\n",
       "Logistic      1\n",
       "Gaussian      1\n",
       "Tree          1\n",
       "RandomForest  1"
      ]
     },
     "execution_count": 306,
     "metadata": {},
     "output_type": "execute_result"
    }
   ],
   "source": [
    "score_df_classification.index = score_df_classification[0]\n",
    "del score_df_classification[0]\n",
    "score_df_classification"
   ]
  },
  {
   "cell_type": "code",
   "execution_count": null,
   "metadata": {},
   "outputs": [],
   "source": [
    "#using model_fit for the pca dataset with all columns of data"
   ]
  },
  {
   "cell_type": "code",
   "execution_count": 309,
   "metadata": {},
   "outputs": [],
   "source": [
    "def model_fit(x):\n",
    "    x.fit(X_train_pca, y_train_pca)\n",
    "    y_pred = x.predict(X_test_pca)\n",
    "    model_fit.accuracy = accuracy_score(y_pred, y_test_pca)\n",
    "    print('Accuracy Score',accuracy_score(y_pred, y_test_pca))\n",
    "    print(classification_report(y_pred, y_test_pca))\n",
    "    print('Confusion Matrix \\n',confusion_matrix(y_pred, y_test_pca))"
   ]
  },
  {
   "cell_type": "code",
   "execution_count": 310,
   "metadata": {},
   "outputs": [
    {
     "name": "stdout",
     "output_type": "stream",
     "text": [
      "Accuracy Score 1.0\n",
      "              precision    recall  f1-score   support\n",
      "\n",
      "           0       1.00      1.00      1.00     34181\n",
      "           1       1.00      1.00      1.00       669\n",
      "\n",
      "   micro avg       1.00      1.00      1.00     34850\n",
      "   macro avg       1.00      1.00      1.00     34850\n",
      "weighted avg       1.00      1.00      1.00     34850\n",
      "\n",
      "Confusion Matrix \n",
      " [[34181     0]\n",
      " [    0   669]]\n"
     ]
    }
   ],
   "source": [
    "model_fit(KNeighborsClassifier(n_neighbors = 4))\n",
    "KNN = model_fit.accuracy"
   ]
  },
  {
   "cell_type": "code",
   "execution_count": 311,
   "metadata": {},
   "outputs": [
    {
     "name": "stderr",
     "output_type": "stream",
     "text": [
      "/home/m/anaconda3/lib/python3.6/site-packages/sklearn/linear_model/logistic.py:433: FutureWarning: Default solver will be changed to 'lbfgs' in 0.22. Specify a solver to silence this warning.\n",
      "  FutureWarning)\n"
     ]
    },
    {
     "name": "stdout",
     "output_type": "stream",
     "text": [
      "Accuracy Score 1.0\n",
      "              precision    recall  f1-score   support\n",
      "\n",
      "           0       1.00      1.00      1.00     34181\n",
      "           1       1.00      1.00      1.00       669\n",
      "\n",
      "   micro avg       1.00      1.00      1.00     34850\n",
      "   macro avg       1.00      1.00      1.00     34850\n",
      "weighted avg       1.00      1.00      1.00     34850\n",
      "\n",
      "Confusion Matrix \n",
      " [[34181     0]\n",
      " [    0   669]]\n"
     ]
    }
   ],
   "source": [
    "model_fit(LogisticRegression())\n",
    "Logistic = model_fit.accuracy"
   ]
  },
  {
   "cell_type": "code",
   "execution_count": 312,
   "metadata": {},
   "outputs": [
    {
     "name": "stdout",
     "output_type": "stream",
     "text": [
      "Accuracy Score 0.9989670014347203\n",
      "              precision    recall  f1-score   support\n",
      "\n",
      "           0       1.00      1.00      1.00     34217\n",
      "           1       0.95      1.00      0.97       633\n",
      "\n",
      "   micro avg       1.00      1.00      1.00     34850\n",
      "   macro avg       0.97      1.00      0.99     34850\n",
      "weighted avg       1.00      1.00      1.00     34850\n",
      "\n",
      "Confusion Matrix \n",
      " [[34181    36]\n",
      " [    0   633]]\n"
     ]
    }
   ],
   "source": [
    "model_fit(GaussianNB())\n",
    "Gaussian = model_fit.accuracy"
   ]
  },
  {
   "cell_type": "code",
   "execution_count": 313,
   "metadata": {},
   "outputs": [
    {
     "name": "stdout",
     "output_type": "stream",
     "text": [
      "Accuracy Score 1.0\n",
      "              precision    recall  f1-score   support\n",
      "\n",
      "           0       1.00      1.00      1.00     34181\n",
      "           1       1.00      1.00      1.00       669\n",
      "\n",
      "   micro avg       1.00      1.00      1.00     34850\n",
      "   macro avg       1.00      1.00      1.00     34850\n",
      "weighted avg       1.00      1.00      1.00     34850\n",
      "\n",
      "Confusion Matrix \n",
      " [[34181     0]\n",
      " [    0   669]]\n"
     ]
    }
   ],
   "source": [
    "model_fit(tree.DecisionTreeClassifier())\n",
    "Tree = model_fit.accuracy"
   ]
  },
  {
   "cell_type": "code",
   "execution_count": 314,
   "metadata": {},
   "outputs": [
    {
     "name": "stdout",
     "output_type": "stream",
     "text": [
      "Accuracy Score 1.0\n",
      "              precision    recall  f1-score   support\n",
      "\n",
      "           0       1.00      1.00      1.00     34181\n",
      "           1       1.00      1.00      1.00       669\n",
      "\n",
      "   micro avg       1.00      1.00      1.00     34850\n",
      "   macro avg       1.00      1.00      1.00     34850\n",
      "weighted avg       1.00      1.00      1.00     34850\n",
      "\n",
      "Confusion Matrix \n",
      " [[34181     0]\n",
      " [    0   669]]\n"
     ]
    }
   ],
   "source": [
    "model_fit(RandomForestClassifier(n_estimators = 100, max_depth =10, random_state = 1))\n",
    "RandomForest = model_fit.accuracy"
   ]
  },
  {
   "cell_type": "code",
   "execution_count": 315,
   "metadata": {},
   "outputs": [],
   "source": [
    "scores_list_1 = ['KNN','Logistic','Gaussian','Tree','RandomForest']\n",
    "scores_1 = [KNN, Logistic, Gaussian, Tree, RandomForest, ]"
   ]
  },
  {
   "cell_type": "code",
   "execution_count": 316,
   "metadata": {},
   "outputs": [],
   "source": [
    "score_df_classification = pd.DataFrame([scores_list_1, scores_1]).T"
   ]
  },
  {
   "cell_type": "code",
   "execution_count": 317,
   "metadata": {},
   "outputs": [
    {
     "data": {
      "text/html": [
       "<div>\n",
       "<style scoped>\n",
       "    .dataframe tbody tr th:only-of-type {\n",
       "        vertical-align: middle;\n",
       "    }\n",
       "\n",
       "    .dataframe tbody tr th {\n",
       "        vertical-align: top;\n",
       "    }\n",
       "\n",
       "    .dataframe thead th {\n",
       "        text-align: right;\n",
       "    }\n",
       "</style>\n",
       "<table border=\"1\" class=\"dataframe\">\n",
       "  <thead>\n",
       "    <tr style=\"text-align: right;\">\n",
       "      <th></th>\n",
       "      <th>1</th>\n",
       "    </tr>\n",
       "    <tr>\n",
       "      <th>0</th>\n",
       "      <th></th>\n",
       "    </tr>\n",
       "  </thead>\n",
       "  <tbody>\n",
       "    <tr>\n",
       "      <th>KNN</th>\n",
       "      <td>1</td>\n",
       "    </tr>\n",
       "    <tr>\n",
       "      <th>Logistic</th>\n",
       "      <td>1</td>\n",
       "    </tr>\n",
       "    <tr>\n",
       "      <th>Gaussian</th>\n",
       "      <td>0.998967</td>\n",
       "    </tr>\n",
       "    <tr>\n",
       "      <th>Tree</th>\n",
       "      <td>1</td>\n",
       "    </tr>\n",
       "    <tr>\n",
       "      <th>RandomForest</th>\n",
       "      <td>1</td>\n",
       "    </tr>\n",
       "  </tbody>\n",
       "</table>\n",
       "</div>"
      ],
      "text/plain": [
       "                     1\n",
       "0                     \n",
       "KNN                  1\n",
       "Logistic             1\n",
       "Gaussian      0.998967\n",
       "Tree                 1\n",
       "RandomForest         1"
      ]
     },
     "execution_count": 317,
     "metadata": {},
     "output_type": "execute_result"
    }
   ],
   "source": [
    "score_df_classification.index = score_df_classification[0]\n",
    "del score_df_classification[0]\n",
    "score_df_classification"
   ]
  },
  {
   "cell_type": "code",
   "execution_count": null,
   "metadata": {},
   "outputs": [],
   "source": []
  }
 ],
 "metadata": {
  "kernelspec": {
   "display_name": "Python 3",
   "language": "python",
   "name": "python3"
  },
  "language_info": {
   "codemirror_mode": {
    "name": "ipython",
    "version": 3
   },
   "file_extension": ".py",
   "mimetype": "text/x-python",
   "name": "python",
   "nbconvert_exporter": "python",
   "pygments_lexer": "ipython3",
   "version": "3.6.5"
  }
 },
 "nbformat": 4,
 "nbformat_minor": 2
}
